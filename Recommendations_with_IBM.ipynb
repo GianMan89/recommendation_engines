{
 "cells": [
  {
   "cell_type": "markdown",
   "metadata": {},
   "source": [
    "# Recommendations with IBM\n",
    "\n",
    "In this notebook, you will be putting your recommendation skills to use on real data from the IBM Watson Studio platform. \n",
    "\n",
    "\n",
    "You may either submit your notebook through the workspace here, or you may work from your local machine and submit through the next page.  Either way assure that your code passes the project [RUBRIC](https://review.udacity.com/#!/rubrics/3325/view).  **Please save regularly.**\n",
    "\n",
    "By following the table of contents, you will build out a number of different methods for making recommendations that can be used for different situations. \n",
    "\n",
    "\n",
    "## Table of Contents\n",
    "\n",
    "I. [Exploratory Data Analysis](#Exploratory-Data-Analysis)<br>\n",
    "II. [Rank Based Recommendations](#Rank)<br>\n",
    "III. [User-User Based Collaborative Filtering](#User-User)<br>\n",
    "IV. [Content Based Recommendations (EXTRA - NOT REQUIRED)](#Content-Recs)<br>\n",
    "V. [Matrix Factorization](#Matrix-Fact)<br>\n",
    "VI. [Extras & Concluding](#conclusions)\n",
    "\n",
    "At the end of the notebook, you will find directions for how to submit your work.  Let's get started by importing the necessary libraries and reading in the data."
   ]
  },
  {
   "cell_type": "code",
   "execution_count": 14,
   "metadata": {
    "collapsed": true
   },
   "outputs": [
    {
     "data": {
      "text/html": [
       "<div>\n",
       "<style scoped>\n",
       "    .dataframe tbody tr th:only-of-type {\n",
       "        vertical-align: middle;\n",
       "    }\n",
       "\n",
       "    .dataframe tbody tr th {\n",
       "        vertical-align: top;\n",
       "    }\n",
       "\n",
       "    .dataframe thead th {\n",
       "        text-align: right;\n",
       "    }\n",
       "</style>\n",
       "<table border=\"1\" class=\"dataframe\">\n",
       "  <thead>\n",
       "    <tr style=\"text-align: right;\">\n",
       "      <th></th>\n",
       "      <th>article_id</th>\n",
       "      <th>title</th>\n",
       "      <th>email</th>\n",
       "    </tr>\n",
       "  </thead>\n",
       "  <tbody>\n",
       "    <tr>\n",
       "      <th>0</th>\n",
       "      <td>1430.0</td>\n",
       "      <td>using pixiedust for fast, flexible, and easier...</td>\n",
       "      <td>ef5f11f77ba020cd36e1105a00ab868bbdbf7fe7</td>\n",
       "    </tr>\n",
       "    <tr>\n",
       "      <th>1</th>\n",
       "      <td>1314.0</td>\n",
       "      <td>healthcare python streaming application demo</td>\n",
       "      <td>083cbdfa93c8444beaa4c5f5e0f5f9198e4f9e0b</td>\n",
       "    </tr>\n",
       "    <tr>\n",
       "      <th>2</th>\n",
       "      <td>1429.0</td>\n",
       "      <td>use deep learning for image classification</td>\n",
       "      <td>b96a4f2e92d8572034b1e9b28f9ac673765cd074</td>\n",
       "    </tr>\n",
       "    <tr>\n",
       "      <th>3</th>\n",
       "      <td>1338.0</td>\n",
       "      <td>ml optimization using cognitive assistant</td>\n",
       "      <td>06485706b34a5c9bf2a0ecdac41daf7e7654ceb7</td>\n",
       "    </tr>\n",
       "    <tr>\n",
       "      <th>4</th>\n",
       "      <td>1276.0</td>\n",
       "      <td>deploy your python model as a restful api</td>\n",
       "      <td>f01220c46fc92c6e6b161b1849de11faacd7ccb2</td>\n",
       "    </tr>\n",
       "  </tbody>\n",
       "</table>\n",
       "</div>"
      ],
      "text/plain": [
       "   article_id                                              title  \\\n",
       "0      1430.0  using pixiedust for fast, flexible, and easier...   \n",
       "1      1314.0       healthcare python streaming application demo   \n",
       "2      1429.0         use deep learning for image classification   \n",
       "3      1338.0          ml optimization using cognitive assistant   \n",
       "4      1276.0          deploy your python model as a restful api   \n",
       "\n",
       "                                      email  \n",
       "0  ef5f11f77ba020cd36e1105a00ab868bbdbf7fe7  \n",
       "1  083cbdfa93c8444beaa4c5f5e0f5f9198e4f9e0b  \n",
       "2  b96a4f2e92d8572034b1e9b28f9ac673765cd074  \n",
       "3  06485706b34a5c9bf2a0ecdac41daf7e7654ceb7  \n",
       "4  f01220c46fc92c6e6b161b1849de11faacd7ccb2  "
      ]
     },
     "execution_count": 14,
     "metadata": {},
     "output_type": "execute_result"
    }
   ],
   "source": [
    "import pandas as pd\n",
    "import numpy as np\n",
    "import matplotlib.pyplot as plt\n",
    "import project_tests as t\n",
    "import pickle\n",
    "\n",
    "%matplotlib inline\n",
    "\n",
    "df = pd.read_csv('data/user-item-interactions.csv')\n",
    "df_content = pd.read_csv('data/articles_community.csv')\n",
    "del df['Unnamed: 0']\n",
    "del df_content['Unnamed: 0']\n",
    "\n",
    "# Show df to get an idea of the data\n",
    "df.head()"
   ]
  },
  {
   "cell_type": "code",
   "execution_count": 15,
   "metadata": {
    "collapsed": true
   },
   "outputs": [
    {
     "data": {
      "text/html": [
       "<div>\n",
       "<style scoped>\n",
       "    .dataframe tbody tr th:only-of-type {\n",
       "        vertical-align: middle;\n",
       "    }\n",
       "\n",
       "    .dataframe tbody tr th {\n",
       "        vertical-align: top;\n",
       "    }\n",
       "\n",
       "    .dataframe thead th {\n",
       "        text-align: right;\n",
       "    }\n",
       "</style>\n",
       "<table border=\"1\" class=\"dataframe\">\n",
       "  <thead>\n",
       "    <tr style=\"text-align: right;\">\n",
       "      <th></th>\n",
       "      <th>doc_body</th>\n",
       "      <th>doc_description</th>\n",
       "      <th>doc_full_name</th>\n",
       "      <th>doc_status</th>\n",
       "      <th>article_id</th>\n",
       "    </tr>\n",
       "  </thead>\n",
       "  <tbody>\n",
       "    <tr>\n",
       "      <th>0</th>\n",
       "      <td>Skip navigation Sign in SearchLoading...\\r\\n\\r...</td>\n",
       "      <td>Detect bad readings in real time using Python ...</td>\n",
       "      <td>Detect Malfunctioning IoT Sensors with Streami...</td>\n",
       "      <td>Live</td>\n",
       "      <td>0</td>\n",
       "    </tr>\n",
       "    <tr>\n",
       "      <th>1</th>\n",
       "      <td>No Free Hunch Navigation * kaggle.com\\r\\n\\r\\n ...</td>\n",
       "      <td>See the forest, see the trees. Here lies the c...</td>\n",
       "      <td>Communicating data science: A guide to present...</td>\n",
       "      <td>Live</td>\n",
       "      <td>1</td>\n",
       "    </tr>\n",
       "    <tr>\n",
       "      <th>2</th>\n",
       "      <td>☰ * Login\\r\\n * Sign Up\\r\\n\\r\\n * Learning Pat...</td>\n",
       "      <td>Here’s this week’s news in Data Science and Bi...</td>\n",
       "      <td>This Week in Data Science (April 18, 2017)</td>\n",
       "      <td>Live</td>\n",
       "      <td>2</td>\n",
       "    </tr>\n",
       "    <tr>\n",
       "      <th>3</th>\n",
       "      <td>DATALAYER: HIGH THROUGHPUT, LOW LATENCY AT SCA...</td>\n",
       "      <td>Learn how distributed DBs solve the problem of...</td>\n",
       "      <td>DataLayer Conference: Boost the performance of...</td>\n",
       "      <td>Live</td>\n",
       "      <td>3</td>\n",
       "    </tr>\n",
       "    <tr>\n",
       "      <th>4</th>\n",
       "      <td>Skip navigation Sign in SearchLoading...\\r\\n\\r...</td>\n",
       "      <td>This video demonstrates the power of IBM DataS...</td>\n",
       "      <td>Analyze NY Restaurant data using Spark in DSX</td>\n",
       "      <td>Live</td>\n",
       "      <td>4</td>\n",
       "    </tr>\n",
       "  </tbody>\n",
       "</table>\n",
       "</div>"
      ],
      "text/plain": [
       "                                            doc_body  \\\n",
       "0  Skip navigation Sign in SearchLoading...\\r\\n\\r...   \n",
       "1  No Free Hunch Navigation * kaggle.com\\r\\n\\r\\n ...   \n",
       "2  ☰ * Login\\r\\n * Sign Up\\r\\n\\r\\n * Learning Pat...   \n",
       "3  DATALAYER: HIGH THROUGHPUT, LOW LATENCY AT SCA...   \n",
       "4  Skip navigation Sign in SearchLoading...\\r\\n\\r...   \n",
       "\n",
       "                                     doc_description  \\\n",
       "0  Detect bad readings in real time using Python ...   \n",
       "1  See the forest, see the trees. Here lies the c...   \n",
       "2  Here’s this week’s news in Data Science and Bi...   \n",
       "3  Learn how distributed DBs solve the problem of...   \n",
       "4  This video demonstrates the power of IBM DataS...   \n",
       "\n",
       "                                       doc_full_name doc_status  article_id  \n",
       "0  Detect Malfunctioning IoT Sensors with Streami...       Live           0  \n",
       "1  Communicating data science: A guide to present...       Live           1  \n",
       "2         This Week in Data Science (April 18, 2017)       Live           2  \n",
       "3  DataLayer Conference: Boost the performance of...       Live           3  \n",
       "4      Analyze NY Restaurant data using Spark in DSX       Live           4  "
      ]
     },
     "execution_count": 15,
     "metadata": {},
     "output_type": "execute_result"
    }
   ],
   "source": [
    "# Show df_content to get an idea of the data\n",
    "df_content.head()"
   ]
  },
  {
   "cell_type": "markdown",
   "metadata": {},
   "source": [
    "### <a class=\"anchor\" id=\"Exploratory-Data-Analysis\">Part I : Exploratory Data Analysis</a>\n",
    "\n",
    "Use the dictionary and cells below to provide some insight into the descriptive statistics of the data.\n",
    "\n",
    "`1.` What is the distribution of how many articles a user interacts with in the dataset?  Provide a visual and descriptive statistics to assist with giving a look at the number of times each user interacts with an article.  "
   ]
  },
  {
   "cell_type": "code",
   "execution_count": 16,
   "metadata": {
    "collapsed": true
   },
   "outputs": [
    {
     "data": {
      "text/plain": [
       "count    5148.000000\n",
       "mean        8.930847\n",
       "std        16.802267\n",
       "min         1.000000\n",
       "25%         1.000000\n",
       "50%         3.000000\n",
       "75%         9.000000\n",
       "max       364.000000\n",
       "Name: email, dtype: float64"
      ]
     },
     "execution_count": 16,
     "metadata": {},
     "output_type": "execute_result"
    }
   ],
   "source": [
    "# Descriptive statistics\n",
    "df[\"email\"].value_counts().describe()"
   ]
  },
  {
   "cell_type": "code",
   "execution_count": 17,
   "metadata": {
    "collapsed": true
   },
   "outputs": [
    {
     "data": {
      "image/png": "[encoded data removed]",
      "text/plain": [
       "<Figure size 640x480 with 1 Axes>"
      ]
     },
     "metadata": {},
     "output_type": "display_data"
    }
   ],
   "source": [
    "# Visual statistics\n",
    "df[\"email\"].value_counts().hist(bins=100)\n",
    "plt.title(\"Distribution of how many articles a user interacts with\")\n",
    "plt.xlabel(\"Number of interactions\")\n",
    "plt.ylabel(\"Number of users\")\n",
    "plt.show()"
   ]
  },
  {
   "cell_type": "code",
   "execution_count": 18,
   "metadata": {
    "collapsed": true
   },
   "outputs": [],
   "source": [
    "# Fill in the median and maximum number of user_article interactios below\n",
    "\n",
    "median_val = 3 # 50% of individuals interact with ____ number of articles or fewer.\n",
    "max_views_by_user = 364 # The maximum number of user-article interactions by any 1 user is ______."
   ]
  },
  {
   "cell_type": "markdown",
   "metadata": {},
   "source": [
    "`2.` Explore and remove duplicate articles from the **df_content** dataframe.  "
   ]
  },
  {
   "cell_type": "code",
   "execution_count": 19,
   "metadata": {
    "collapsed": true
   },
   "outputs": [
    {
     "data": {
      "text/html": [
       "<div>\n",
       "<style scoped>\n",
       "    .dataframe tbody tr th:only-of-type {\n",
       "        vertical-align: middle;\n",
       "    }\n",
       "\n",
       "    .dataframe tbody tr th {\n",
       "        vertical-align: top;\n",
       "    }\n",
       "\n",
       "    .dataframe thead th {\n",
       "        text-align: right;\n",
       "    }\n",
       "</style>\n",
       "<table border=\"1\" class=\"dataframe\">\n",
       "  <thead>\n",
       "    <tr style=\"text-align: right;\">\n",
       "      <th></th>\n",
       "      <th>doc_body</th>\n",
       "      <th>doc_description</th>\n",
       "      <th>doc_full_name</th>\n",
       "      <th>doc_status</th>\n",
       "      <th>article_id</th>\n",
       "    </tr>\n",
       "  </thead>\n",
       "  <tbody>\n",
       "    <tr>\n",
       "      <th>365</th>\n",
       "      <td>Follow Sign in / Sign up Home About Insight Da...</td>\n",
       "      <td>During the seven-week Insight Data Engineering...</td>\n",
       "      <td>Graph-based machine learning</td>\n",
       "      <td>Live</td>\n",
       "      <td>50</td>\n",
       "    </tr>\n",
       "    <tr>\n",
       "      <th>692</th>\n",
       "      <td>Homepage Follow Sign in / Sign up Homepage * H...</td>\n",
       "      <td>One of the earliest documented catalogs was co...</td>\n",
       "      <td>How smart catalogs can turn the big data flood...</td>\n",
       "      <td>Live</td>\n",
       "      <td>221</td>\n",
       "    </tr>\n",
       "    <tr>\n",
       "      <th>761</th>\n",
       "      <td>Homepage Follow Sign in Get started Homepage *...</td>\n",
       "      <td>Today’s world of data science leverages data f...</td>\n",
       "      <td>Using Apache Spark as a parallel processing fr...</td>\n",
       "      <td>Live</td>\n",
       "      <td>398</td>\n",
       "    </tr>\n",
       "    <tr>\n",
       "      <th>970</th>\n",
       "      <td>This video shows you how to construct queries ...</td>\n",
       "      <td>This video shows you how to construct queries ...</td>\n",
       "      <td>Use the Primary Index</td>\n",
       "      <td>Live</td>\n",
       "      <td>577</td>\n",
       "    </tr>\n",
       "    <tr>\n",
       "      <th>971</th>\n",
       "      <td>Homepage Follow Sign in Get started * Home\\r\\n...</td>\n",
       "      <td>If you are like most data scientists, you are ...</td>\n",
       "      <td>Self-service data preparation with IBM Data Re...</td>\n",
       "      <td>Live</td>\n",
       "      <td>232</td>\n",
       "    </tr>\n",
       "  </tbody>\n",
       "</table>\n",
       "</div>"
      ],
      "text/plain": [
       "                                              doc_body  \\\n",
       "365  Follow Sign in / Sign up Home About Insight Da...   \n",
       "692  Homepage Follow Sign in / Sign up Homepage * H...   \n",
       "761  Homepage Follow Sign in Get started Homepage *...   \n",
       "970  This video shows you how to construct queries ...   \n",
       "971  Homepage Follow Sign in Get started * Home\\r\\n...   \n",
       "\n",
       "                                       doc_description  \\\n",
       "365  During the seven-week Insight Data Engineering...   \n",
       "692  One of the earliest documented catalogs was co...   \n",
       "761  Today’s world of data science leverages data f...   \n",
       "970  This video shows you how to construct queries ...   \n",
       "971  If you are like most data scientists, you are ...   \n",
       "\n",
       "                                         doc_full_name doc_status  article_id  \n",
       "365                       Graph-based machine learning       Live          50  \n",
       "692  How smart catalogs can turn the big data flood...       Live         221  \n",
       "761  Using Apache Spark as a parallel processing fr...       Live         398  \n",
       "970                              Use the Primary Index       Live         577  \n",
       "971  Self-service data preparation with IBM Data Re...       Live         232  "
      ]
     },
     "execution_count": 19,
     "metadata": {},
     "output_type": "execute_result"
    }
   ],
   "source": [
    "# Find and explore duplicate articles\n",
    "df_content[df_content.duplicated(subset=[\"article_id\"])]"
   ]
  },
  {
   "cell_type": "code",
   "execution_count": 20,
   "metadata": {
    "collapsed": true
   },
   "outputs": [],
   "source": [
    "# Remove any rows that have the same article_id - only keep the first\n",
    "df_content = df_content.drop_duplicates(subset=[\"article_id\"], keep=\"first\")"
   ]
  },
  {
   "cell_type": "markdown",
   "metadata": {},
   "source": [
    "`3.` Use the cells below to find:\n",
    "\n",
    "**a.** The number of unique articles that have an interaction with a user.  \n",
    "**b.** The number of unique articles in the dataset (whether they have any interactions or not).<br>\n",
    "**c.** The number of unique users in the dataset. (excluding null values). <br>\n",
    "**d.** The number of user-article interactions in the dataset."
   ]
  },
  {
   "cell_type": "code",
   "execution_count": 25,
   "metadata": {
    "collapsed": true
   },
   "outputs": [
    {
     "data": {
      "text/plain": [
       "714"
      ]
     },
     "execution_count": 25,
     "metadata": {},
     "output_type": "execute_result"
    }
   ],
   "source": [
    "# a. The number of unique articles that have an interaction with a user.\n",
    "df[\"article_id\"].nunique()"
   ]
  },
  {
   "cell_type": "code",
   "execution_count": 26,
   "metadata": {},
   "outputs": [
    {
     "data": {
      "text/plain": [
       "1051"
      ]
     },
     "execution_count": 26,
     "metadata": {},
     "output_type": "execute_result"
    }
   ],
   "source": [
    "# b. The number of unique articles in the dataset (whether they have any interactions or not).\n",
    "df_content[\"article_id\"].nunique()"
   ]
  },
  {
   "cell_type": "code",
   "execution_count": 27,
   "metadata": {},
   "outputs": [
    {
     "data": {
      "text/plain": [
       "5148"
      ]
     },
     "execution_count": 27,
     "metadata": {},
     "output_type": "execute_result"
    }
   ],
   "source": [
    "# c. The number of unique users in the dataset. (excluding null values).\n",
    "df[\"email\"].nunique()"
   ]
  },
  {
   "cell_type": "code",
   "execution_count": 28,
   "metadata": {},
   "outputs": [
    {
     "data": {
      "text/plain": [
       "45993"
      ]
     },
     "execution_count": 28,
     "metadata": {},
     "output_type": "execute_result"
    }
   ],
   "source": [
    "# d. The number of user-article interactions in the dataset.\n",
    "df.shape[0]"
   ]
  },
  {
   "cell_type": "code",
   "execution_count": 29,
   "metadata": {
    "collapsed": true
   },
   "outputs": [],
   "source": [
    "unique_articles = 714 # The number of unique articles that have at least one interaction\n",
    "total_articles = 1051 # The number of unique articles on the IBM platform\n",
    "unique_users = 5148 # The number of unique users\n",
    "user_article_interactions = 45993 # The number of user-article interactions"
   ]
  },
  {
   "cell_type": "markdown",
   "metadata": {},
   "source": [
    "`4.` Use the cells below to find the most viewed **article_id**, as well as how often it was viewed.  After talking to the company leaders, the `email_mapper` function was deemed a reasonable way to map users to ids.  There were a small number of null values, and it was found that all of these null values likely belonged to a single user (which is how they are stored using the function below)."
   ]
  },
  {
   "cell_type": "code",
   "execution_count": 62,
   "metadata": {
    "collapsed": true
   },
   "outputs": [
    {
     "data": {
      "text/plain": [
       "(1429.0, 937)"
      ]
     },
     "execution_count": 62,
     "metadata": {},
     "output_type": "execute_result"
    }
   ],
   "source": [
    "df[\"article_id\"].value_counts().index[:1][0], df[\"article_id\"].value_counts().max()"
   ]
  },
  {
   "cell_type": "code",
   "execution_count": 53,
   "metadata": {
    "collapsed": true
   },
   "outputs": [],
   "source": [
    "most_viewed_article_id = \"1429.0\" # The most viewed article in the dataset as a string with one value following the decimal \n",
    "max_views = 937 # The most viewed article in the dataset was viewed how many times?"
   ]
  },
  {
   "cell_type": "code",
   "execution_count": 51,
   "metadata": {
    "collapsed": true
   },
   "outputs": [
    {
     "data": {
      "text/html": [
       "<div>\n",
       "<style scoped>\n",
       "    .dataframe tbody tr th:only-of-type {\n",
       "        vertical-align: middle;\n",
       "    }\n",
       "\n",
       "    .dataframe tbody tr th {\n",
       "        vertical-align: top;\n",
       "    }\n",
       "\n",
       "    .dataframe thead th {\n",
       "        text-align: right;\n",
       "    }\n",
       "</style>\n",
       "<table border=\"1\" class=\"dataframe\">\n",
       "  <thead>\n",
       "    <tr style=\"text-align: right;\">\n",
       "      <th></th>\n",
       "      <th>article_id</th>\n",
       "      <th>title</th>\n",
       "      <th>user_id</th>\n",
       "    </tr>\n",
       "  </thead>\n",
       "  <tbody>\n",
       "    <tr>\n",
       "      <th>0</th>\n",
       "      <td>1430.0</td>\n",
       "      <td>using pixiedust for fast, flexible, and easier...</td>\n",
       "      <td>1</td>\n",
       "    </tr>\n",
       "    <tr>\n",
       "      <th>1</th>\n",
       "      <td>1314.0</td>\n",
       "      <td>healthcare python streaming application demo</td>\n",
       "      <td>2</td>\n",
       "    </tr>\n",
       "    <tr>\n",
       "      <th>2</th>\n",
       "      <td>1429.0</td>\n",
       "      <td>use deep learning for image classification</td>\n",
       "      <td>3</td>\n",
       "    </tr>\n",
       "    <tr>\n",
       "      <th>3</th>\n",
       "      <td>1338.0</td>\n",
       "      <td>ml optimization using cognitive assistant</td>\n",
       "      <td>4</td>\n",
       "    </tr>\n",
       "    <tr>\n",
       "      <th>4</th>\n",
       "      <td>1276.0</td>\n",
       "      <td>deploy your python model as a restful api</td>\n",
       "      <td>5</td>\n",
       "    </tr>\n",
       "  </tbody>\n",
       "</table>\n",
       "</div>"
      ],
      "text/plain": [
       "   article_id                                              title  user_id\n",
       "0      1430.0  using pixiedust for fast, flexible, and easier...        1\n",
       "1      1314.0       healthcare python streaming application demo        2\n",
       "2      1429.0         use deep learning for image classification        3\n",
       "3      1338.0          ml optimization using cognitive assistant        4\n",
       "4      1276.0          deploy your python model as a restful api        5"
      ]
     },
     "execution_count": 51,
     "metadata": {},
     "output_type": "execute_result"
    }
   ],
   "source": [
    "## No need to change the code here - this will be helpful for later parts of the notebook\n",
    "# Run this cell to map the user email to a user_id column and remove the email column\n",
    "\n",
    "def email_mapper():\n",
    "    coded_dict = dict()\n",
    "    cter = 1\n",
    "    email_encoded = []\n",
    "    \n",
    "    for val in df['email']:\n",
    "        if val not in coded_dict:\n",
    "            coded_dict[val] = cter\n",
    "            cter+=1\n",
    "        \n",
    "        email_encoded.append(coded_dict[val])\n",
    "    return email_encoded\n",
    "\n",
    "email_encoded = email_mapper()\n",
    "del df['email']\n",
    "df['user_id'] = email_encoded\n",
    "\n",
    "# show header\n",
    "df.head()"
   ]
  },
  {
   "cell_type": "code",
   "execution_count": 54,
   "metadata": {
    "collapsed": true
   },
   "outputs": [
    {
     "name": "stdout",
     "output_type": "stream",
     "text": [
      "It looks like you have everything right here! Nice job!\n"
     ]
    }
   ],
   "source": [
    "## If you stored all your results in the variable names above, \n",
    "## you shouldn't need to change anything in this cell\n",
    "\n",
    "sol_1_dict = {\n",
    "    '`50% of individuals have _____ or fewer interactions.`': median_val,\n",
    "    '`The total number of user-article interactions in the dataset is ______.`': user_article_interactions,\n",
    "    '`The maximum number of user-article interactions by any 1 user is ______.`': max_views_by_user,\n",
    "    '`The most viewed article in the dataset was viewed _____ times.`': max_views,\n",
    "    '`The article_id of the most viewed article is ______.`': most_viewed_article_id,\n",
    "    '`The number of unique articles that have at least 1 rating ______.`': unique_articles,\n",
    "    '`The number of unique users in the dataset is ______`': unique_users,\n",
    "    '`The number of unique articles on the IBM platform`': total_articles\n",
    "}\n",
    "\n",
    "# Test your dictionary against the solution\n",
    "t.sol_1_test(sol_1_dict)"
   ]
  },
  {
   "cell_type": "markdown",
   "metadata": {},
   "source": [
    "### <a class=\"anchor\" id=\"Rank\">Part II: Rank-Based Recommendations</a>\n",
    "\n",
    "Unlike in the earlier lessons, we don't actually have ratings for whether a user liked an article or not.  We only know that a user has interacted with an article.  In these cases, the popularity of an article can really only be based on how often an article was interacted with.\n",
    "\n",
    "`1.` Fill in the function below to return the **n** top articles ordered with most interactions as the top. Test your function using the tests below."
   ]
  },
  {
   "cell_type": "code",
   "execution_count": 68,
   "metadata": {
    "collapsed": true
   },
   "outputs": [],
   "source": [
    "def get_top_articles(n, df=df):\n",
    "    '''\n",
    "    INPUT:\n",
    "    n - (int) the number of top articles to return\n",
    "    df - (pandas dataframe) df as defined at the top of the notebook \n",
    "    \n",
    "    OUTPUT:\n",
    "    top_articles - (list) A list of the top 'n' article titles \n",
    "    \n",
    "    '''\n",
    "    # Your code here\n",
    "    top_articles = df[df[\"article_id\"].isin(get_top_article_ids(n, df))][\"title\"]\n",
    "    return top_articles # Return the top article titles from df (not df_content)\n",
    "\n",
    "def get_top_article_ids(n, df=df):\n",
    "    '''\n",
    "    INPUT:\n",
    "    n - (int) the number of top articles to return\n",
    "    df - (pandas dataframe) df as defined at the top of the notebook \n",
    "    \n",
    "    OUTPUT:\n",
    "    top_articles - (list) A list of the top 'n' article ids \n",
    "    \n",
    "    '''\n",
    "    # Your code here\n",
    "    top_articles_ids = list(df[\"article_id\"].value_counts().index[:n])\n",
    "    return top_articles_ids # Return the top article ids"
   ]
  },
  {
   "cell_type": "code",
   "execution_count": 69,
   "metadata": {
    "collapsed": true
   },
   "outputs": [
    {
     "name": "stdout",
     "output_type": "stream",
     "text": [
      "1             healthcare python streaming application demo\n",
      "2               use deep learning for image classification\n",
      "6               use deep learning for image classification\n",
      "8             healthcare python streaming application demo\n",
      "13            healthcare python streaming application demo\n",
      "                               ...                        \n",
      "45942    use xgboost, scikit-learn & ibm watson machine...\n",
      "45943          insights from new york car accident reports\n",
      "45957          insights from new york car accident reports\n",
      "45958                       visualize car data with brunel\n",
      "45960          insights from new york car accident reports\n",
      "Name: title, Length: 6551, dtype: object\n",
      "[1429.0, 1330.0, 1431.0, 1427.0, 1364.0, 1314.0, 1293.0, 1170.0, 1162.0, 1304.0]\n"
     ]
    }
   ],
   "source": [
    "print(get_top_articles(10))\n",
    "print(get_top_article_ids(10))"
   ]
  },
  {
   "cell_type": "code",
   "execution_count": 70,
   "metadata": {
    "collapsed": true
   },
   "outputs": [
    {
     "name": "stdout",
     "output_type": "stream",
     "text": [
      "Your top_5 looks like the solution list! Nice job.\n",
      "Your top_10 looks like the solution list! Nice job.\n",
      "Your top_20 looks like the solution list! Nice job.\n"
     ]
    }
   ],
   "source": [
    "# Test your function by returning the top 5, 10, and 20 articles\n",
    "top_5 = get_top_articles(5)\n",
    "top_10 = get_top_articles(10)\n",
    "top_20 = get_top_articles(20)\n",
    "\n",
    "# Test each of your three lists from above\n",
    "t.sol_2_test(get_top_articles)"
   ]
  },
  {
   "cell_type": "markdown",
   "metadata": {},
   "source": [
    "### <a class=\"anchor\" id=\"User-User\">Part III: User-User Based Collaborative Filtering</a>\n",
    "\n",
    "\n",
    "`1.` Use the function below to reformat the **df** dataframe to be shaped with users as the rows and articles as the columns.  \n",
    "\n",
    "* Each **user** should only appear in each **row** once.\n",
    "\n",
    "\n",
    "* Each **article** should only show up in one **column**.  \n",
    "\n",
    "\n",
    "* **If a user has interacted with an article, then place a 1 where the user-row meets for that article-column**.  It does not matter how many times a user has interacted with the article, all entries where a user has interacted with an article should be a 1.  \n",
    "\n",
    "\n",
    "* **If a user has not interacted with an item, then place a zero where the user-row meets for that article-column**. \n",
    "\n",
    "Use the tests to make sure the basic structure of your matrix matches what is expected by the solution."
   ]
  },
  {
   "cell_type": "code",
   "execution_count": 78,
   "metadata": {
    "collapsed": true
   },
   "outputs": [],
   "source": [
    "# create the user-article matrix with 1's and 0's\n",
    "\n",
    "def create_user_item_matrix(df):\n",
    "    '''\n",
    "    INPUT:\n",
    "    df - pandas dataframe with article_id, title, user_id columns\n",
    "    \n",
    "    OUTPUT:\n",
    "    user_item - user item matrix \n",
    "    \n",
    "    Description:\n",
    "    Return a matrix with user ids as rows and article ids on the columns with 1 values where a user interacted with \n",
    "    an article and a 0 otherwise\n",
    "    '''\n",
    "    # Fill in the function here\n",
    "    user_item = df.groupby([\"user_id\", \"article_id\"])[\"article_id\"].count().unstack()\n",
    "    user_item = user_item.notnull().astype(int)\n",
    "    return user_item # return the user_item matrix \n",
    "\n",
    "user_item = create_user_item_matrix(df)"
   ]
  },
  {
   "cell_type": "code",
   "execution_count": 79,
   "metadata": {
    "collapsed": true
   },
   "outputs": [
    {
     "name": "stdout",
     "output_type": "stream",
     "text": [
      "You have passed our quick tests!  Please proceed!\n"
     ]
    }
   ],
   "source": [
    "## Tests: You should just need to run this cell.  Don't change the code.\n",
    "assert user_item.shape[0] == 5149, \"Oops!  The number of users in the user-article matrix doesn't look right.\"\n",
    "assert user_item.shape[1] == 714, \"Oops!  The number of articles in the user-article matrix doesn't look right.\"\n",
    "assert user_item.sum(axis=1)[1] == 36, \"Oops!  The number of articles seen by user 1 doesn't look right.\"\n",
    "print(\"You have passed our quick tests!  Please proceed!\")"
   ]
  },
  {
   "cell_type": "markdown",
   "metadata": {},
   "source": [
    "`2.` Complete the function below which should take a user_id and provide an ordered list of the most similar users to that user (from most similar to least similar).  The returned result should not contain the provided user_id, as we know that each user is similar to him/herself. Because the results for each user here are binary, it (perhaps) makes sense to compute similarity as the dot product of two users. \n",
    "\n",
    "Use the tests to test your function."
   ]
  },
  {
   "cell_type": "code",
   "execution_count": 80,
   "metadata": {
    "collapsed": true
   },
   "outputs": [],
   "source": [
    "def find_similar_users(user_id, user_item=user_item):\n",
    "    '''\n",
    "    INPUT:\n",
    "    user_id - (int) a user_id\n",
    "    user_item - (pandas dataframe) matrix of users by articles: \n",
    "                1's when a user has interacted with an article, 0 otherwise\n",
    "    \n",
    "    OUTPUT:\n",
    "    similar_users - (list) an ordered list where the closest users (largest dot product users)\n",
    "                    are listed first\n",
    "    \n",
    "    Description:\n",
    "    Computes the similarity of every pair of users based on the dot product\n",
    "    Returns an ordered list\n",
    "    \n",
    "    '''\n",
    "    # compute similarity of each user to the provided user\n",
    "    most_similar_users = user_item.dot(user_item.loc[user_id])\n",
    "    # sort by similarity\n",
    "    most_similar_users = most_similar_users.sort_values(ascending=False)\n",
    "    # create list of just the ids\n",
    "    most_similar_users = most_similar_users.index\n",
    "    # remove the own user's id\n",
    "    most_similar_users = most_similar_users.drop(user_id)\n",
    "    return most_similar_users # return a list of the users in order from most to least similar\n",
    "        "
   ]
  },
  {
   "cell_type": "code",
   "execution_count": 81,
   "metadata": {
    "collapsed": true
   },
   "outputs": [
    {
     "name": "stdout",
     "output_type": "stream",
     "text": [
      "The 10 most similar users to user 1 are: Int64Index([3933, 23, 3782, 203, 4459, 3870, 131, 4201, 46, 5041], dtype='int64', name='user_id')\n",
      "The 5 most similar users to user 3933 are: Int64Index([1, 23, 3782, 203, 4459], dtype='int64', name='user_id')\n",
      "The 3 most similar users to user 46 are: Int64Index([4201, 3782, 23], dtype='int64', name='user_id')\n"
     ]
    }
   ],
   "source": [
    "# Do a spot check of your function\n",
    "print(\"The 10 most similar users to user 1 are: {}\".format(find_similar_users(1)[:10]))\n",
    "print(\"The 5 most similar users to user 3933 are: {}\".format(find_similar_users(3933)[:5]))\n",
    "print(\"The 3 most similar users to user 46 are: {}\".format(find_similar_users(46)[:3]))"
   ]
  },
  {
   "cell_type": "markdown",
   "metadata": {},
   "source": [
    "`3.` Now that you have a function that provides the most similar users to each user, you will want to use these users to find articles you can recommend.  Complete the functions below to return the articles you would recommend to each user. "
   ]
  },
  {
   "cell_type": "code",
   "execution_count": 138,
   "metadata": {
    "collapsed": true
   },
   "outputs": [],
   "source": [
    "def get_article_names(article_ids, df=df):\n",
    "    '''\n",
    "    INPUT:\n",
    "    article_ids - (list) a list of article ids\n",
    "    df - (pandas dataframe) df as defined at the top of the notebook\n",
    "    \n",
    "    OUTPUT:\n",
    "    article_names - (list) a list of article names associated with the list of article ids \n",
    "                    (this is identified by the title column)\n",
    "    '''\n",
    "    # Your code here\n",
    "    article_names = list(df[df[\"article_id\"].isin(np.float_(article_ids))][\"title\"])\n",
    "    return article_names # Return the article names associated with list of article ids\n",
    "\n",
    "\n",
    "def get_user_articles(user_id, user_item=user_item):\n",
    "    '''\n",
    "    INPUT:\n",
    "    user_id - (int) a user id\n",
    "    user_item - (pandas dataframe) matrix of users by articles: \n",
    "                1's when a user has interacted with an article, 0 otherwise\n",
    "    \n",
    "    OUTPUT:\n",
    "    article_ids - (list) a list of the article ids seen by the user\n",
    "    article_names - (list) a list of article names associated with the list of article ids \n",
    "                    (this is identified by the doc_full_name column in df_content)\n",
    "    \n",
    "    Description:\n",
    "    Provides a list of the article_ids and article titles that have been seen by a user\n",
    "    '''\n",
    "    # Your code here\n",
    "    article_ids = [\n",
    "            str(user_item.columns[i])\n",
    "            for i in range(user_item.shape[1])\n",
    "            if pd.DataFrame(user_item.loc[user_id]).values[i][0] == 1\n",
    "        ]\n",
    "    article_names = get_article_names(article_ids)\n",
    "    return article_ids, article_names # return the ids and names\n",
    "\n",
    "\n",
    "def user_user_recs(user_id, m=10):\n",
    "    '''\n",
    "    INPUT:\n",
    "    user_id - (int) a user id\n",
    "    m - (int) the number of recommendations you want for the user\n",
    "    \n",
    "    OUTPUT:\n",
    "    recs - (list) a list of recommendations for the user\n",
    "    \n",
    "    Description:\n",
    "    Loops through the users based on closeness to the input user_id\n",
    "    For each user - finds articles the user hasn't seen before and provides them as recs\n",
    "    Does this until m recommendations are found\n",
    "    \n",
    "    Notes:\n",
    "    Users who are the same closeness are chosen arbitrarily as the 'next' user\n",
    "    \n",
    "    For the user where the number of recommended articles starts below m \n",
    "    and ends exceeding m, the last items are chosen arbitrarily\n",
    "    \n",
    "    '''\n",
    "    # Your code here\n",
    "    # Get viewed articles by user\n",
    "    viewed_article_ids, _ = get_user_articles(user_id)\n",
    "    \n",
    "    # Get similar users\n",
    "    similar_users = find_similar_users(user_id)\n",
    "    \n",
    "    # Get recommendation of not viewed articles from most similar users\n",
    "    recs = []\n",
    "    for next_user in similar_users:\n",
    "        # Get articles viewed by next_user\n",
    "        article_ids, article_names = get_user_articles(next_user)\n",
    "    \n",
    "        # Get the articles that are viewed by next_user but not by user\n",
    "        not_viewed_articles_ids = list(set(article_ids) - set(viewed_article_ids))\n",
    "        \n",
    "        # Extend the recommendation list\n",
    "        recs.extend(not_viewed_articles_ids)\n",
    "        \n",
    "        # Breaks if m recommendations are found\n",
    "        if len(recs) > m:\n",
    "            break\n",
    "    return recs[:m] # return your recommendations for this user_id    "
   ]
  },
  {
   "cell_type": "code",
   "execution_count": 139,
   "metadata": {
    "collapsed": true
   },
   "outputs": [
    {
     "data": {
      "text/plain": [
       "['intents & examples for ibm watson conversation',\n",
       " 'use decision optimization to schedule league games',\n",
       " 'use decision optimization to schedule league games',\n",
       " 'intents & examples for ibm watson conversation',\n",
       " 'intents & examples for ibm watson conversation',\n",
       " 'intents & examples for ibm watson conversation',\n",
       " 'use decision optimization to schedule league games',\n",
       " 'learn basics about notebooks and apache spark',\n",
       " 'learn basics about notebooks and apache spark',\n",
       " 'learn basics about notebooks and apache spark',\n",
       " 'use decision optimization to schedule league games',\n",
       " 'awesome deep learning papers',\n",
       " 'intents & examples for ibm watson conversation',\n",
       " 'learn basics about notebooks and apache spark',\n",
       " 'learn basics about notebooks and apache spark',\n",
       " 'intents & examples for ibm watson conversation',\n",
       " 'learn basics about notebooks and apache spark',\n",
       " '5 practical use cases of social network analytics: going beyond facebook and twitter',\n",
       " 'use decision optimization to schedule league games',\n",
       " 'intents & examples for ibm watson conversation',\n",
       " 'use decision optimization to schedule league games',\n",
       " 'use decision optimization to schedule league games',\n",
       " 'use decision optimization to schedule league games',\n",
       " 'use decision optimization to schedule league games',\n",
       " 'learn basics about notebooks and apache spark',\n",
       " 'intents & examples for ibm watson conversation',\n",
       " 'learn basics about notebooks and apache spark',\n",
       " 'learn basics about notebooks and apache spark',\n",
       " '5 practical use cases of social network analytics: going beyond facebook and twitter',\n",
       " 'spark-based machine learning tools for capturing word meanings',\n",
       " 'spark-based machine learning tools for capturing word meanings',\n",
       " 'awesome deep learning papers',\n",
       " 'spark 2.1 and job monitoring available in dsx',\n",
       " 'spark 2.1 and job monitoring available in dsx',\n",
       " 'intents & examples for ibm watson conversation',\n",
       " 'use decision optimization to schedule league games',\n",
       " 'intents & examples for ibm watson conversation',\n",
       " 'spark-based machine learning tools for capturing word meanings',\n",
       " '5 practical use cases of social network analytics: going beyond facebook and twitter',\n",
       " 'use decision optimization to schedule league games',\n",
       " 'use decision optimization to schedule league games',\n",
       " 'spark 2.1 and job monitoring available in dsx',\n",
       " 'spark-based machine learning tools for capturing word meanings',\n",
       " '5 practical use cases of social network analytics: going beyond facebook and twitter',\n",
       " 'using machine learning to predict parking difficulty',\n",
       " 'intents & examples for ibm watson conversation',\n",
       " 'learn basics about notebooks and apache spark',\n",
       " 'using machine learning to predict parking difficulty',\n",
       " 'spark 2.1 and job monitoring available in dsx',\n",
       " 'use decision optimization to schedule league games',\n",
       " 'use decision optimization to schedule league games',\n",
       " 'learn basics about notebooks and apache spark',\n",
       " 'spark-based machine learning tools for capturing word meanings',\n",
       " 'learn basics about notebooks and apache spark',\n",
       " 'using machine learning to predict parking difficulty',\n",
       " 'spark 2.1 and job monitoring available in dsx',\n",
       " 'intents & examples for ibm watson conversation',\n",
       " 'spark 2.1 and job monitoring available in dsx',\n",
       " 'spark 2.1 and job monitoring available in dsx',\n",
       " 'use decision optimization to schedule league games',\n",
       " '5 practical use cases of social network analytics: going beyond facebook and twitter',\n",
       " 'spark-based machine learning tools for capturing word meanings',\n",
       " 'spark 2.1 and job monitoring available in dsx',\n",
       " 'learn basics about notebooks and apache spark',\n",
       " 'spark 2.1 and job monitoring available in dsx',\n",
       " 'using machine learning to predict parking difficulty',\n",
       " 'learn basics about notebooks and apache spark',\n",
       " 'intents & examples for ibm watson conversation',\n",
       " 'using machine learning to predict parking difficulty',\n",
       " 'the power of machine learning in spark',\n",
       " 'intents & examples for ibm watson conversation',\n",
       " 'learn basics about notebooks and apache spark',\n",
       " 'intents & examples for ibm watson conversation',\n",
       " '5 practical use cases of social network analytics: going beyond facebook and twitter',\n",
       " 'intents & examples for ibm watson conversation',\n",
       " 'use decision optimization to schedule league games',\n",
       " 'learn basics about notebooks and apache spark',\n",
       " 'spark 2.1 and job monitoring available in dsx',\n",
       " 'learn basics about notebooks and apache spark',\n",
       " 'awesome deep learning papers',\n",
       " 'intents & examples for ibm watson conversation',\n",
       " 'learn basics about notebooks and apache spark',\n",
       " 'using machine learning to predict parking difficulty',\n",
       " 'intents & examples for ibm watson conversation',\n",
       " 'learn basics about notebooks and apache spark',\n",
       " '5 practical use cases of social network analytics: going beyond facebook and twitter',\n",
       " 'use decision optimization to schedule league games',\n",
       " 'intents & examples for ibm watson conversation',\n",
       " 'learn basics about notebooks and apache spark',\n",
       " 'learn basics about notebooks and apache spark',\n",
       " 'learn basics about notebooks and apache spark',\n",
       " 'learn basics about notebooks and apache spark',\n",
       " 'learn basics about notebooks and apache spark',\n",
       " 'learn basics about notebooks and apache spark',\n",
       " 'learn basics about notebooks and apache spark',\n",
       " 'using machine learning to predict parking difficulty',\n",
       " 'learn basics about notebooks and apache spark',\n",
       " 'learn basics about notebooks and apache spark',\n",
       " 'learn basics about notebooks and apache spark',\n",
       " 'learn basics about notebooks and apache spark',\n",
       " 'learn basics about notebooks and apache spark',\n",
       " 'learn basics about notebooks and apache spark',\n",
       " 'spark 2.1 and job monitoring available in dsx',\n",
       " '5 practical use cases of social network analytics: going beyond facebook and twitter',\n",
       " 'twelve\\xa0ways to color a map of africa using brunel',\n",
       " 'intents & examples for ibm watson conversation',\n",
       " 'intents & examples for ibm watson conversation',\n",
       " 'spark 2.1 and job monitoring available in dsx',\n",
       " 'learn basics about notebooks and apache spark',\n",
       " 'use decision optimization to schedule league games',\n",
       " 'spark 2.1 and job monitoring available in dsx',\n",
       " 'intents & examples for ibm watson conversation',\n",
       " 'intents & examples for ibm watson conversation',\n",
       " 'using machine learning to predict parking difficulty',\n",
       " 'learn basics about notebooks and apache spark',\n",
       " 'learn basics about notebooks and apache spark',\n",
       " 'learn basics about notebooks and apache spark',\n",
       " 'twelve\\xa0ways to color a map of africa using brunel',\n",
       " 'intents & examples for ibm watson conversation',\n",
       " 'awesome deep learning papers',\n",
       " 'the power of machine learning in spark',\n",
       " 'using machine learning to predict parking difficulty',\n",
       " 'intents & examples for ibm watson conversation',\n",
       " 'intents & examples for ibm watson conversation',\n",
       " 'intents & examples for ibm watson conversation',\n",
       " 'spark 2.1 and job monitoring available in dsx',\n",
       " 'learn basics about notebooks and apache spark',\n",
       " 'intents & examples for ibm watson conversation',\n",
       " 'use decision optimization to schedule league games',\n",
       " 'learn basics about notebooks and apache spark',\n",
       " 'learn basics about notebooks and apache spark',\n",
       " 'intents & examples for ibm watson conversation',\n",
       " 'intents & examples for ibm watson conversation',\n",
       " 'use decision optimization to schedule league games',\n",
       " 'learn basics about notebooks and apache spark',\n",
       " 'learn basics about notebooks and apache spark',\n",
       " 'twelve\\xa0ways to color a map of africa using brunel',\n",
       " 'use decision optimization to schedule league games',\n",
       " 'spark 2.1 and job monitoring available in dsx',\n",
       " 'intents & examples for ibm watson conversation',\n",
       " 'learn basics about notebooks and apache spark',\n",
       " 'spark 2.1 and job monitoring available in dsx',\n",
       " 'intents & examples for ibm watson conversation',\n",
       " 'spark-based machine learning tools for capturing word meanings',\n",
       " 'intents & examples for ibm watson conversation',\n",
       " 'intents & examples for ibm watson conversation',\n",
       " 'spark 2.1 and job monitoring available in dsx',\n",
       " 'use decision optimization to schedule league games',\n",
       " 'spark 2.1 and job monitoring available in dsx',\n",
       " 'use decision optimization to schedule league games',\n",
       " 'using machine learning to predict parking difficulty',\n",
       " 'use decision optimization to schedule league games',\n",
       " 'use decision optimization to schedule league games',\n",
       " 'spark 2.1 and job monitoring available in dsx',\n",
       " 'spark 2.1 and job monitoring available in dsx',\n",
       " 'learn basics about notebooks and apache spark',\n",
       " 'learn basics about notebooks and apache spark',\n",
       " 'using machine learning to predict parking difficulty',\n",
       " 'learn basics about notebooks and apache spark',\n",
       " 'spark 2.1 and job monitoring available in dsx',\n",
       " 'use decision optimization to schedule league games',\n",
       " 'spark 2.1 and job monitoring available in dsx',\n",
       " 'using machine learning to predict parking difficulty',\n",
       " 'learn basics about notebooks and apache spark',\n",
       " 'using machine learning to predict parking difficulty',\n",
       " 'the power of machine learning in spark',\n",
       " 'intents & examples for ibm watson conversation',\n",
       " 'spark 2.1 and job monitoring available in dsx',\n",
       " 'use decision optimization to schedule league games',\n",
       " 'spark 2.1 and job monitoring available in dsx',\n",
       " 'spark 2.1 and job monitoring available in dsx',\n",
       " 'twelve\\xa0ways to color a map of africa using brunel',\n",
       " 'using machine learning to predict parking difficulty',\n",
       " 'intents & examples for ibm watson conversation',\n",
       " 'use decision optimization to schedule league games',\n",
       " 'learn basics about notebooks and apache spark',\n",
       " 'twelve\\xa0ways to color a map of africa using brunel',\n",
       " 'using machine learning to predict parking difficulty',\n",
       " 'using machine learning to predict parking difficulty',\n",
       " 'using machine learning to predict parking difficulty',\n",
       " 'spark 2.1 and job monitoring available in dsx',\n",
       " 'learn basics about notebooks and apache spark',\n",
       " 'awesome deep learning papers',\n",
       " 'awesome deep learning papers',\n",
       " 'learn basics about notebooks and apache spark',\n",
       " 'intents & examples for ibm watson conversation',\n",
       " 'learn basics about notebooks and apache spark',\n",
       " 'learn basics about notebooks and apache spark',\n",
       " 'spark 2.1 and job monitoring available in dsx',\n",
       " 'use decision optimization to schedule league games',\n",
       " 'intents & examples for ibm watson conversation',\n",
       " 'the power of machine learning in spark',\n",
       " 'spark 2.1 and job monitoring available in dsx',\n",
       " 'learn basics about notebooks and apache spark',\n",
       " 'spark 2.1 and job monitoring available in dsx',\n",
       " 'intents & examples for ibm watson conversation',\n",
       " 'spark 2.1 and job monitoring available in dsx',\n",
       " 'learn basics about notebooks and apache spark',\n",
       " 'intents & examples for ibm watson conversation',\n",
       " 'spark 2.1 and job monitoring available in dsx',\n",
       " 'spark-based machine learning tools for capturing word meanings',\n",
       " 'using machine learning to predict parking difficulty',\n",
       " 'using machine learning to predict parking difficulty',\n",
       " 'intents & examples for ibm watson conversation',\n",
       " 'intents & examples for ibm watson conversation',\n",
       " 'intents & examples for ibm watson conversation',\n",
       " 'use decision optimization to schedule league games',\n",
       " 'spark-based machine learning tools for capturing word meanings',\n",
       " 'intents & examples for ibm watson conversation',\n",
       " 'use decision optimization to schedule league games',\n",
       " 'intents & examples for ibm watson conversation',\n",
       " 'spark-based machine learning tools for capturing word meanings',\n",
       " 'spark 2.1 and job monitoring available in dsx',\n",
       " 'spark 2.1 and job monitoring available in dsx',\n",
       " 'spark 2.1 and job monitoring available in dsx',\n",
       " 'using machine learning to predict parking difficulty',\n",
       " 'using machine learning to predict parking difficulty',\n",
       " 'learn basics about notebooks and apache spark',\n",
       " 'spark 2.1 and job monitoring available in dsx',\n",
       " 'intents & examples for ibm watson conversation',\n",
       " 'awesome deep learning papers',\n",
       " 'use decision optimization to schedule league games',\n",
       " 'use decision optimization to schedule league games',\n",
       " 'intents & examples for ibm watson conversation',\n",
       " 'intents & examples for ibm watson conversation',\n",
       " 'twelve\\xa0ways to color a map of africa using brunel',\n",
       " 'learn basics about notebooks and apache spark',\n",
       " 'learn basics about notebooks and apache spark',\n",
       " 'use decision optimization to schedule league games',\n",
       " 'spark-based machine learning tools for capturing word meanings',\n",
       " 'intents & examples for ibm watson conversation',\n",
       " 'spark 2.1 and job monitoring available in dsx',\n",
       " 'using machine learning to predict parking difficulty',\n",
       " 'spark 2.1 and job monitoring available in dsx',\n",
       " 'intents & examples for ibm watson conversation',\n",
       " 'learn basics about notebooks and apache spark',\n",
       " 'use decision optimization to schedule league games',\n",
       " 'spark-based machine learning tools for capturing word meanings',\n",
       " '5 practical use cases of social network analytics: going beyond facebook and twitter',\n",
       " 'use decision optimization to schedule league games',\n",
       " 'intents & examples for ibm watson conversation',\n",
       " '5 practical use cases of social network analytics: going beyond facebook and twitter',\n",
       " 'intents & examples for ibm watson conversation',\n",
       " 'intents & examples for ibm watson conversation',\n",
       " 'twelve\\xa0ways to color a map of africa using brunel',\n",
       " '5 practical use cases of social network analytics: going beyond facebook and twitter',\n",
       " 'using machine learning to predict parking difficulty',\n",
       " 'intents & examples for ibm watson conversation',\n",
       " 'use decision optimization to schedule league games',\n",
       " 'using machine learning to predict parking difficulty',\n",
       " 'use decision optimization to schedule league games',\n",
       " 'spark 2.1 and job monitoring available in dsx',\n",
       " 'spark 2.1 and job monitoring available in dsx',\n",
       " 'use decision optimization to schedule league games',\n",
       " 'spark 2.1 and job monitoring available in dsx',\n",
       " 'learn basics about notebooks and apache spark',\n",
       " 'learn basics about notebooks and apache spark',\n",
       " 'spark-based machine learning tools for capturing word meanings',\n",
       " 'spark 2.1 and job monitoring available in dsx',\n",
       " 'use decision optimization to schedule league games',\n",
       " 'using machine learning to predict parking difficulty',\n",
       " '5 practical use cases of social network analytics: going beyond facebook and twitter',\n",
       " 'intents & examples for ibm watson conversation',\n",
       " 'spark 2.1 and job monitoring available in dsx',\n",
       " 'spark 2.1 and job monitoring available in dsx',\n",
       " 'using machine learning to predict parking difficulty',\n",
       " 'spark 2.1 and job monitoring available in dsx',\n",
       " 'awesome deep learning papers',\n",
       " 'learn basics about notebooks and apache spark',\n",
       " 'learn basics about notebooks and apache spark',\n",
       " 'using machine learning to predict parking difficulty',\n",
       " 'spark 2.1 and job monitoring available in dsx',\n",
       " 'spark 2.1 and job monitoring available in dsx',\n",
       " 'spark 2.1 and job monitoring available in dsx',\n",
       " 'spark 2.1 and job monitoring available in dsx',\n",
       " 'intents & examples for ibm watson conversation',\n",
       " 'learn basics about notebooks and apache spark',\n",
       " 'spark-based machine learning tools for capturing word meanings',\n",
       " '5 practical use cases of social network analytics: going beyond facebook and twitter',\n",
       " 'using machine learning to predict parking difficulty',\n",
       " 'learn basics about notebooks and apache spark',\n",
       " 'using machine learning to predict parking difficulty',\n",
       " 'intents & examples for ibm watson conversation',\n",
       " 'learn basics about notebooks and apache spark',\n",
       " 'use decision optimization to schedule league games',\n",
       " 'using machine learning to predict parking difficulty',\n",
       " 'intents & examples for ibm watson conversation',\n",
       " 'using machine learning to predict parking difficulty',\n",
       " 'spark 2.1 and job monitoring available in dsx',\n",
       " 'intents & examples for ibm watson conversation',\n",
       " 'intents & examples for ibm watson conversation',\n",
       " '5 practical use cases of social network analytics: going beyond facebook and twitter',\n",
       " 'using machine learning to predict parking difficulty',\n",
       " 'spark 2.1 and job monitoring available in dsx',\n",
       " 'learn basics about notebooks and apache spark',\n",
       " '5 practical use cases of social network analytics: going beyond facebook and twitter',\n",
       " 'use decision optimization to schedule league games',\n",
       " 'twelve\\xa0ways to color a map of africa using brunel',\n",
       " 'spark 2.1 and job monitoring available in dsx',\n",
       " 'intents & examples for ibm watson conversation',\n",
       " 'intents & examples for ibm watson conversation',\n",
       " 'spark 2.1 and job monitoring available in dsx',\n",
       " 'spark-based machine learning tools for capturing word meanings',\n",
       " 'use decision optimization to schedule league games',\n",
       " 'awesome deep learning papers',\n",
       " 'spark 2.1 and job monitoring available in dsx',\n",
       " 'spark 2.1 and job monitoring available in dsx',\n",
       " 'using machine learning to predict parking difficulty',\n",
       " 'learn basics about notebooks and apache spark',\n",
       " 'use decision optimization to schedule league games',\n",
       " 'using machine learning to predict parking difficulty',\n",
       " '5 practical use cases of social network analytics: going beyond facebook and twitter',\n",
       " 'intents & examples for ibm watson conversation',\n",
       " '5 practical use cases of social network analytics: going beyond facebook and twitter',\n",
       " 'intents & examples for ibm watson conversation',\n",
       " 'learn basics about notebooks and apache spark',\n",
       " 'spark-based machine learning tools for capturing word meanings',\n",
       " 'using machine learning to predict parking difficulty',\n",
       " 'awesome deep learning papers',\n",
       " 'using machine learning to predict parking difficulty',\n",
       " 'intents & examples for ibm watson conversation',\n",
       " 'spark-based machine learning tools for capturing word meanings',\n",
       " 'learn basics about notebooks and apache spark',\n",
       " '5 practical use cases of social network analytics: going beyond facebook and twitter',\n",
       " 'intents & examples for ibm watson conversation',\n",
       " 'learn basics about notebooks and apache spark',\n",
       " 'spark 2.1 and job monitoring available in dsx',\n",
       " 'learn basics about notebooks and apache spark',\n",
       " 'spark 2.1 and job monitoring available in dsx',\n",
       " '5 practical use cases of social network analytics: going beyond facebook and twitter',\n",
       " 'learn basics about notebooks and apache spark',\n",
       " 'the power of machine learning in spark',\n",
       " 'learn basics about notebooks and apache spark',\n",
       " 'learn basics about notebooks and apache spark',\n",
       " 'spark 2.1 and job monitoring available in dsx',\n",
       " 'spark 2.1 and job monitoring available in dsx',\n",
       " 'learn basics about notebooks and apache spark',\n",
       " 'learn basics about notebooks and apache spark',\n",
       " '5 practical use cases of social network analytics: going beyond facebook and twitter',\n",
       " 'learn basics about notebooks and apache spark',\n",
       " 'intents & examples for ibm watson conversation',\n",
       " 'learn basics about notebooks and apache spark',\n",
       " 'spark-based machine learning tools for capturing word meanings',\n",
       " 'spark 2.1 and job monitoring available in dsx',\n",
       " '5 practical use cases of social network analytics: going beyond facebook and twitter',\n",
       " 'spark-based machine learning tools for capturing word meanings',\n",
       " 'spark-based machine learning tools for capturing word meanings',\n",
       " 'use decision optimization to schedule league games',\n",
       " 'learn basics about notebooks and apache spark',\n",
       " 'learn basics about notebooks and apache spark',\n",
       " 'use decision optimization to schedule league games',\n",
       " 'learn basics about notebooks and apache spark',\n",
       " 'use decision optimization to schedule league games',\n",
       " 'twelve\\xa0ways to color a map of africa using brunel',\n",
       " 'spark 2.1 and job monitoring available in dsx',\n",
       " 'intents & examples for ibm watson conversation',\n",
       " 'using machine learning to predict parking difficulty',\n",
       " 'intents & examples for ibm watson conversation',\n",
       " 'the power of machine learning in spark',\n",
       " 'use decision optimization to schedule league games',\n",
       " 'using machine learning to predict parking difficulty',\n",
       " 'intents & examples for ibm watson conversation',\n",
       " '5 practical use cases of social network analytics: going beyond facebook and twitter',\n",
       " 'learn basics about notebooks and apache spark',\n",
       " 'the power of machine learning in spark',\n",
       " 'spark 2.1 and job monitoring available in dsx',\n",
       " 'learn basics about notebooks and apache spark',\n",
       " '5 practical use cases of social network analytics: going beyond facebook and twitter',\n",
       " '5 practical use cases of social network analytics: going beyond facebook and twitter',\n",
       " 'use decision optimization to schedule league games',\n",
       " 'intents & examples for ibm watson conversation',\n",
       " 'intents & examples for ibm watson conversation',\n",
       " 'spark 2.1 and job monitoring available in dsx',\n",
       " 'learn basics about notebooks and apache spark',\n",
       " 'spark 2.1 and job monitoring available in dsx',\n",
       " 'learn basics about notebooks and apache spark',\n",
       " 'the power of machine learning in spark',\n",
       " 'use decision optimization to schedule league games',\n",
       " '5 practical use cases of social network analytics: going beyond facebook and twitter',\n",
       " 'twelve\\xa0ways to color a map of africa using brunel',\n",
       " 'learn basics about notebooks and apache spark',\n",
       " 'intents & examples for ibm watson conversation',\n",
       " 'spark 2.1 and job monitoring available in dsx',\n",
       " 'twelve\\xa0ways to color a map of africa using brunel',\n",
       " 'intents & examples for ibm watson conversation',\n",
       " 'learn basics about notebooks and apache spark',\n",
       " 'awesome deep learning papers',\n",
       " 'using machine learning to predict parking difficulty',\n",
       " 'spark-based machine learning tools for capturing word meanings',\n",
       " 'using machine learning to predict parking difficulty',\n",
       " 'spark 2.1 and job monitoring available in dsx',\n",
       " 'using machine learning to predict parking difficulty',\n",
       " 'use decision optimization to schedule league games',\n",
       " 'use decision optimization to schedule league games',\n",
       " 'learn basics about notebooks and apache spark',\n",
       " 'learn basics about notebooks and apache spark',\n",
       " 'twelve\\xa0ways to color a map of africa using brunel',\n",
       " 'intents & examples for ibm watson conversation',\n",
       " 'learn basics about notebooks and apache spark',\n",
       " '5 practical use cases of social network analytics: going beyond facebook and twitter',\n",
       " 'learn basics about notebooks and apache spark',\n",
       " 'use decision optimization to schedule league games',\n",
       " 'using machine learning to predict parking difficulty',\n",
       " 'twelve\\xa0ways to color a map of africa using brunel',\n",
       " 'spark-based machine learning tools for capturing word meanings',\n",
       " 'using machine learning to predict parking difficulty',\n",
       " 'intents & examples for ibm watson conversation',\n",
       " 'learn basics about notebooks and apache spark',\n",
       " 'intents & examples for ibm watson conversation',\n",
       " 'learn basics about notebooks and apache spark',\n",
       " 'spark-based machine learning tools for capturing word meanings',\n",
       " 'the power of machine learning in spark',\n",
       " 'spark-based machine learning tools for capturing word meanings',\n",
       " 'spark-based machine learning tools for capturing word meanings',\n",
       " 'learn basics about notebooks and apache spark',\n",
       " 'learn basics about notebooks and apache spark',\n",
       " 'learn basics about notebooks and apache spark',\n",
       " 'learn basics about notebooks and apache spark',\n",
       " 'learn basics about notebooks and apache spark',\n",
       " 'learn basics about notebooks and apache spark',\n",
       " 'learn basics about notebooks and apache spark',\n",
       " 'use decision optimization to schedule league games',\n",
       " '5 practical use cases of social network analytics: going beyond facebook and twitter',\n",
       " 'learn basics about notebooks and apache spark',\n",
       " 'intents & examples for ibm watson conversation',\n",
       " 'intents & examples for ibm watson conversation',\n",
       " 'learn basics about notebooks and apache spark',\n",
       " '5 practical use cases of social network analytics: going beyond facebook and twitter',\n",
       " 'intents & examples for ibm watson conversation',\n",
       " 'learn basics about notebooks and apache spark',\n",
       " 'use decision optimization to schedule league games',\n",
       " 'use decision optimization to schedule league games',\n",
       " 'intents & examples for ibm watson conversation',\n",
       " 'learn basics about notebooks and apache spark',\n",
       " 'learn basics about notebooks and apache spark',\n",
       " 'use decision optimization to schedule league games',\n",
       " 'learn basics about notebooks and apache spark',\n",
       " 'learn basics about notebooks and apache spark',\n",
       " 'the power of machine learning in spark',\n",
       " 'learn basics about notebooks and apache spark',\n",
       " 'learn basics about notebooks and apache spark',\n",
       " 'learn basics about notebooks and apache spark',\n",
       " 'learn basics about notebooks and apache spark',\n",
       " 'learn basics about notebooks and apache spark',\n",
       " 'learn basics about notebooks and apache spark',\n",
       " 'learn basics about notebooks and apache spark',\n",
       " 'learn basics about notebooks and apache spark',\n",
       " 'learn basics about notebooks and apache spark',\n",
       " 'learn basics about notebooks and apache spark',\n",
       " 'learn basics about notebooks and apache spark',\n",
       " 'learn basics about notebooks and apache spark',\n",
       " 'learn basics about notebooks and apache spark',\n",
       " 'learn basics about notebooks and apache spark',\n",
       " 'learn basics about notebooks and apache spark',\n",
       " 'learn basics about notebooks and apache spark',\n",
       " 'learn basics about notebooks and apache spark',\n",
       " 'learn basics about notebooks and apache spark',\n",
       " 'intents & examples for ibm watson conversation',\n",
       " 'learn basics about notebooks and apache spark',\n",
       " 'learn basics about notebooks and apache spark',\n",
       " 'learn basics about notebooks and apache spark',\n",
       " 'learn basics about notebooks and apache spark',\n",
       " 'learn basics about notebooks and apache spark',\n",
       " 'learn basics about notebooks and apache spark',\n",
       " 'learn basics about notebooks and apache spark',\n",
       " 'learn basics about notebooks and apache spark',\n",
       " 'learn basics about notebooks and apache spark',\n",
       " 'learn basics about notebooks and apache spark',\n",
       " 'learn basics about notebooks and apache spark',\n",
       " 'the power of machine learning in spark',\n",
       " 'learn basics about notebooks and apache spark',\n",
       " 'learn basics about notebooks and apache spark',\n",
       " 'learn basics about notebooks and apache spark',\n",
       " 'learn basics about notebooks and apache spark',\n",
       " 'learn basics about notebooks and apache spark',\n",
       " 'learn basics about notebooks and apache spark',\n",
       " 'learn basics about notebooks and apache spark',\n",
       " 'learn basics about notebooks and apache spark',\n",
       " 'spark-based machine learning tools for capturing word meanings',\n",
       " 'learn basics about notebooks and apache spark',\n",
       " 'use decision optimization to schedule league games',\n",
       " 'learn basics about notebooks and apache spark',\n",
       " 'learn basics about notebooks and apache spark',\n",
       " 'learn basics about notebooks and apache spark',\n",
       " 'learn basics about notebooks and apache spark',\n",
       " 'learn basics about notebooks and apache spark',\n",
       " 'learn basics about notebooks and apache spark',\n",
       " 'learn basics about notebooks and apache spark',\n",
       " 'learn basics about notebooks and apache spark',\n",
       " 'learn basics about notebooks and apache spark',\n",
       " '5 practical use cases of social network analytics: going beyond facebook and twitter',\n",
       " 'the power of machine learning in spark',\n",
       " 'learn basics about notebooks and apache spark',\n",
       " 'learn basics about notebooks and apache spark',\n",
       " 'learn basics about notebooks and apache spark',\n",
       " 'learn basics about notebooks and apache spark',\n",
       " 'learn basics about notebooks and apache spark',\n",
       " 'learn basics about notebooks and apache spark',\n",
       " 'learn basics about notebooks and apache spark',\n",
       " 'learn basics about notebooks and apache spark',\n",
       " 'learn basics about notebooks and apache spark',\n",
       " 'learn basics about notebooks and apache spark',\n",
       " 'learn basics about notebooks and apache spark',\n",
       " 'learn basics about notebooks and apache spark',\n",
       " 'learn basics about notebooks and apache spark',\n",
       " 'learn basics about notebooks and apache spark',\n",
       " 'learn basics about notebooks and apache spark',\n",
       " 'learn basics about notebooks and apache spark',\n",
       " 'learn basics about notebooks and apache spark',\n",
       " 'learn basics about notebooks and apache spark',\n",
       " 'learn basics about notebooks and apache spark',\n",
       " 'learn basics about notebooks and apache spark',\n",
       " 'awesome deep learning papers',\n",
       " 'use decision optimization to schedule league games',\n",
       " 'intents & examples for ibm watson conversation',\n",
       " 'intents & examples for ibm watson conversation',\n",
       " 'intents & examples for ibm watson conversation',\n",
       " 'intents & examples for ibm watson conversation',\n",
       " 'intents & examples for ibm watson conversation',\n",
       " 'intents & examples for ibm watson conversation',\n",
       " 'intents & examples for ibm watson conversation',\n",
       " 'learn basics about notebooks and apache spark',\n",
       " 'learn basics about notebooks and apache spark',\n",
       " 'learn basics about notebooks and apache spark',\n",
       " 'learn basics about notebooks and apache spark',\n",
       " 'learn basics about notebooks and apache spark',\n",
       " 'learn basics about notebooks and apache spark',\n",
       " 'use decision optimization to schedule league games',\n",
       " 'learn basics about notebooks and apache spark',\n",
       " 'intents & examples for ibm watson conversation',\n",
       " 'learn basics about notebooks and apache spark',\n",
       " 'learn basics about notebooks and apache spark',\n",
       " 'learn basics about notebooks and apache spark',\n",
       " 'learn basics about notebooks and apache spark',\n",
       " 'learn basics about notebooks and apache spark',\n",
       " 'learn basics about notebooks and apache spark',\n",
       " 'intents & examples for ibm watson conversation',\n",
       " 'the power of machine learning in spark',\n",
       " 'learn basics about notebooks and apache spark',\n",
       " 'intents & examples for ibm watson conversation',\n",
       " 'intents & examples for ibm watson conversation',\n",
       " 'intents & examples for ibm watson conversation',\n",
       " 'intents & examples for ibm watson conversation',\n",
       " 'intents & examples for ibm watson conversation',\n",
       " 'intents & examples for ibm watson conversation',\n",
       " 'intents & examples for ibm watson conversation',\n",
       " 'learn basics about notebooks and apache spark',\n",
       " 'intents & examples for ibm watson conversation',\n",
       " 'intents & examples for ibm watson conversation',\n",
       " 'intents & examples for ibm watson conversation',\n",
       " 'intents & examples for ibm watson conversation',\n",
       " 'learn basics about notebooks and apache spark',\n",
       " 'learn basics about notebooks and apache spark',\n",
       " 'learn basics about notebooks and apache spark',\n",
       " 'intents & examples for ibm watson conversation',\n",
       " 'intents & examples for ibm watson conversation',\n",
       " 'intents & examples for ibm watson conversation',\n",
       " 'learn basics about notebooks and apache spark',\n",
       " 'intents & examples for ibm watson conversation',\n",
       " 'intents & examples for ibm watson conversation',\n",
       " 'learn basics about notebooks and apache spark',\n",
       " 'intents & examples for ibm watson conversation',\n",
       " 'learn basics about notebooks and apache spark',\n",
       " 'learn basics about notebooks and apache spark',\n",
       " 'learn basics about notebooks and apache spark',\n",
       " 'learn basics about notebooks and apache spark',\n",
       " 'learn basics about notebooks and apache spark',\n",
       " 'the power of machine learning in spark',\n",
       " 'intents & examples for ibm watson conversation',\n",
       " '5 practical use cases of social network analytics: going beyond facebook and twitter',\n",
       " 'intents & examples for ibm watson conversation',\n",
       " 'twelve\\xa0ways to color a map of africa using brunel',\n",
       " 'learn basics about notebooks and apache spark',\n",
       " 'learn basics about notebooks and apache spark',\n",
       " 'intents & examples for ibm watson conversation',\n",
       " 'learn basics about notebooks and apache spark',\n",
       " 'learn basics about notebooks and apache spark',\n",
       " 'learn basics about notebooks and apache spark',\n",
       " '5 practical use cases of social network analytics: going beyond facebook and twitter',\n",
       " '5 practical use cases of social network analytics: going beyond facebook and twitter',\n",
       " '5 practical use cases of social network analytics: going beyond facebook and twitter',\n",
       " 'use decision optimization to schedule league games',\n",
       " 'use decision optimization to schedule league games',\n",
       " 'intents & examples for ibm watson conversation',\n",
       " 'intents & examples for ibm watson conversation',\n",
       " 'intents & examples for ibm watson conversation',\n",
       " 'learn basics about notebooks and apache spark',\n",
       " 'intents & examples for ibm watson conversation',\n",
       " 'intents & examples for ibm watson conversation',\n",
       " 'twelve\\xa0ways to color a map of africa using brunel',\n",
       " 'the power of machine learning in spark',\n",
       " 'learn basics about notebooks and apache spark',\n",
       " 'awesome deep learning papers',\n",
       " 'learn basics about notebooks and apache spark',\n",
       " 'the power of machine learning in spark',\n",
       " 'learn basics about notebooks and apache spark',\n",
       " 'awesome deep learning papers',\n",
       " 'learn basics about notebooks and apache spark',\n",
       " '5 practical use cases of social network analytics: going beyond facebook and twitter',\n",
       " 'twelve\\xa0ways to color a map of africa using brunel',\n",
       " 'use decision optimization to schedule league games',\n",
       " 'awesome deep learning papers',\n",
       " 'learn basics about notebooks and apache spark',\n",
       " 'use decision optimization to schedule league games',\n",
       " 'learn basics about notebooks and apache spark',\n",
       " 'intents & examples for ibm watson conversation',\n",
       " 'twelve\\xa0ways to color a map of africa using brunel',\n",
       " 'learn basics about notebooks and apache spark',\n",
       " '5 practical use cases of social network analytics: going beyond facebook and twitter',\n",
       " 'use decision optimization to schedule league games',\n",
       " 'use decision optimization to schedule league games',\n",
       " 'use decision optimization to schedule league games',\n",
       " 'learn basics about notebooks and apache spark',\n",
       " 'learn basics about notebooks and apache spark',\n",
       " 'using machine learning to predict parking difficulty',\n",
       " 'learn basics about notebooks and apache spark',\n",
       " 'spark 2.1 and job monitoring available in dsx',\n",
       " 'use decision optimization to schedule league games',\n",
       " 'intents & examples for ibm watson conversation',\n",
       " 'intents & examples for ibm watson conversation',\n",
       " 'twelve\\xa0ways to color a map of africa using brunel',\n",
       " 'intents & examples for ibm watson conversation',\n",
       " 'learn basics about notebooks and apache spark',\n",
       " 'spark 2.1 and job monitoring available in dsx',\n",
       " 'spark 2.1 and job monitoring available in dsx',\n",
       " 'spark 2.1 and job monitoring available in dsx',\n",
       " 'spark 2.1 and job monitoring available in dsx',\n",
       " 'use decision optimization to schedule league games',\n",
       " 'twelve\\xa0ways to color a map of africa using brunel',\n",
       " 'spark 2.1 and job monitoring available in dsx',\n",
       " 'intents & examples for ibm watson conversation',\n",
       " 'intents & examples for ibm watson conversation',\n",
       " 'use decision optimization to schedule league games',\n",
       " 'use decision optimization to schedule league games',\n",
       " 'use decision optimization to schedule league games',\n",
       " 'learn basics about notebooks and apache spark',\n",
       " 'using machine learning to predict parking difficulty',\n",
       " 'twelve\\xa0ways to color a map of africa using brunel',\n",
       " '5 practical use cases of social network analytics: going beyond facebook and twitter',\n",
       " 'awesome deep learning papers',\n",
       " '5 practical use cases of social network analytics: going beyond facebook and twitter',\n",
       " 'spark-based machine learning tools for capturing word meanings',\n",
       " 'intents & examples for ibm watson conversation',\n",
       " 'intents & examples for ibm watson conversation',\n",
       " 'spark 2.1 and job monitoring available in dsx',\n",
       " 'learn basics about notebooks and apache spark',\n",
       " 'learn basics about notebooks and apache spark',\n",
       " 'learn basics about notebooks and apache spark',\n",
       " 'learn basics about notebooks and apache spark',\n",
       " 'use decision optimization to schedule league games',\n",
       " 'using machine learning to predict parking difficulty',\n",
       " 'spark-based machine learning tools for capturing word meanings',\n",
       " 'learn basics about notebooks and apache spark',\n",
       " 'using machine learning to predict parking difficulty',\n",
       " '5 practical use cases of social network analytics: going beyond facebook and twitter',\n",
       " 'the power of machine learning in spark',\n",
       " 'awesome deep learning papers',\n",
       " 'learn basics about notebooks and apache spark',\n",
       " 'learn basics about notebooks and apache spark',\n",
       " 'use decision optimization to schedule league games',\n",
       " 'spark 2.1 and job monitoring available in dsx',\n",
       " 'the power of machine learning in spark',\n",
       " 'spark 2.1 and job monitoring available in dsx',\n",
       " 'intents & examples for ibm watson conversation',\n",
       " '5 practical use cases of social network analytics: going beyond facebook and twitter',\n",
       " 'learn basics about notebooks and apache spark',\n",
       " 'use decision optimization to schedule league games',\n",
       " 'use decision optimization to schedule league games',\n",
       " 'spark-based machine learning tools for capturing word meanings',\n",
       " 'learn basics about notebooks and apache spark',\n",
       " 'twelve\\xa0ways to color a map of africa using brunel',\n",
       " 'spark 2.1 and job monitoring available in dsx',\n",
       " 'intents & examples for ibm watson conversation',\n",
       " 'learn basics about notebooks and apache spark',\n",
       " 'learn basics about notebooks and apache spark',\n",
       " 'intents & examples for ibm watson conversation',\n",
       " 'learn basics about notebooks and apache spark',\n",
       " 'spark 2.1 and job monitoring available in dsx',\n",
       " 'spark 2.1 and job monitoring available in dsx',\n",
       " 'spark 2.1 and job monitoring available in dsx',\n",
       " '5 practical use cases of social network analytics: going beyond facebook and twitter',\n",
       " 'learn basics about notebooks and apache spark',\n",
       " 'spark 2.1 and job monitoring available in dsx',\n",
       " 'learn basics about notebooks and apache spark',\n",
       " 'learn basics about notebooks and apache spark',\n",
       " 'learn basics about notebooks and apache spark',\n",
       " 'learn basics about notebooks and apache spark',\n",
       " 'use decision optimization to schedule league games',\n",
       " 'learn basics about notebooks and apache spark',\n",
       " 'awesome deep learning papers',\n",
       " 'learn basics about notebooks and apache spark',\n",
       " 'learn basics about notebooks and apache spark',\n",
       " 'learn basics about notebooks and apache spark',\n",
       " 'spark 2.1 and job monitoring available in dsx',\n",
       " 'use decision optimization to schedule league games',\n",
       " 'spark-based machine learning tools for capturing word meanings',\n",
       " 'intents & examples for ibm watson conversation',\n",
       " 'awesome deep learning papers',\n",
       " 'awesome deep learning papers',\n",
       " 'using machine learning to predict parking difficulty',\n",
       " 'using machine learning to predict parking difficulty',\n",
       " 'use decision optimization to schedule league games',\n",
       " 'learn basics about notebooks and apache spark',\n",
       " 'learn basics about notebooks and apache spark',\n",
       " 'learn basics about notebooks and apache spark',\n",
       " 'learn basics about notebooks and apache spark',\n",
       " '5 practical use cases of social network analytics: going beyond facebook and twitter',\n",
       " 'twelve\\xa0ways to color a map of africa using brunel',\n",
       " 'learn basics about notebooks and apache spark',\n",
       " 'learn basics about notebooks and apache spark',\n",
       " 'intents & examples for ibm watson conversation',\n",
       " 'learn basics about notebooks and apache spark',\n",
       " 'twelve\\xa0ways to color a map of africa using brunel',\n",
       " 'using machine learning to predict parking difficulty',\n",
       " 'intents & examples for ibm watson conversation',\n",
       " 'learn basics about notebooks and apache spark',\n",
       " 'spark 2.1 and job monitoring available in dsx',\n",
       " 'the power of machine learning in spark',\n",
       " 'learn basics about notebooks and apache spark',\n",
       " 'using machine learning to predict parking difficulty',\n",
       " 'use decision optimization to schedule league games',\n",
       " 'learn basics about notebooks and apache spark',\n",
       " 'learn basics about notebooks and apache spark',\n",
       " 'learn basics about notebooks and apache spark',\n",
       " 'intents & examples for ibm watson conversation',\n",
       " 'spark-based machine learning tools for capturing word meanings',\n",
       " 'use decision optimization to schedule league games',\n",
       " 'use decision optimization to schedule league games',\n",
       " 'intents & examples for ibm watson conversation',\n",
       " 'intents & examples for ibm watson conversation',\n",
       " 'intents & examples for ibm watson conversation',\n",
       " 'spark 2.1 and job monitoring available in dsx',\n",
       " '5 practical use cases of social network analytics: going beyond facebook and twitter',\n",
       " 'spark 2.1 and job monitoring available in dsx',\n",
       " 'spark 2.1 and job monitoring available in dsx',\n",
       " 'learn basics about notebooks and apache spark',\n",
       " 'awesome deep learning papers',\n",
       " 'learn basics about notebooks and apache spark',\n",
       " 'spark 2.1 and job monitoring available in dsx',\n",
       " 'the power of machine learning in spark',\n",
       " 'learn basics about notebooks and apache spark',\n",
       " 'learn basics about notebooks and apache spark',\n",
       " 'use decision optimization to schedule league games',\n",
       " 'intents & examples for ibm watson conversation',\n",
       " 'spark 2.1 and job monitoring available in dsx',\n",
       " 'use decision optimization to schedule league games',\n",
       " 'the power of machine learning in spark',\n",
       " 'use decision optimization to schedule league games',\n",
       " 'using machine learning to predict parking difficulty',\n",
       " 'the power of machine learning in spark',\n",
       " 'learn basics about notebooks and apache spark',\n",
       " 'learn basics about notebooks and apache spark',\n",
       " 'learn basics about notebooks and apache spark',\n",
       " 'awesome deep learning papers',\n",
       " 'intents & examples for ibm watson conversation',\n",
       " 'spark 2.1 and job monitoring available in dsx',\n",
       " 'use decision optimization to schedule league games',\n",
       " 'learn basics about notebooks and apache spark',\n",
       " 'spark 2.1 and job monitoring available in dsx',\n",
       " 'use decision optimization to schedule league games',\n",
       " 'spark-based machine learning tools for capturing word meanings',\n",
       " 'twelve\\xa0ways to color a map of africa using brunel',\n",
       " 'intents & examples for ibm watson conversation',\n",
       " 'intents & examples for ibm watson conversation',\n",
       " 'using machine learning to predict parking difficulty',\n",
       " 'intents & examples for ibm watson conversation',\n",
       " 'intents & examples for ibm watson conversation',\n",
       " 'intents & examples for ibm watson conversation',\n",
       " 'learn basics about notebooks and apache spark',\n",
       " 'learn basics about notebooks and apache spark',\n",
       " 'intents & examples for ibm watson conversation',\n",
       " 'use decision optimization to schedule league games',\n",
       " 'use decision optimization to schedule league games',\n",
       " 'intents & examples for ibm watson conversation',\n",
       " 'twelve\\xa0ways to color a map of africa using brunel',\n",
       " 'use decision optimization to schedule league games',\n",
       " 'use decision optimization to schedule league games',\n",
       " 'intents & examples for ibm watson conversation',\n",
       " 'spark 2.1 and job monitoring available in dsx',\n",
       " 'using machine learning to predict parking difficulty',\n",
       " 'learn basics about notebooks and apache spark',\n",
       " 'learn basics about notebooks and apache spark',\n",
       " 'using machine learning to predict parking difficulty',\n",
       " 'spark-based machine learning tools for capturing word meanings',\n",
       " 'intents & examples for ibm watson conversation',\n",
       " 'spark 2.1 and job monitoring available in dsx',\n",
       " 'using machine learning to predict parking difficulty',\n",
       " 'use decision optimization to schedule league games',\n",
       " 'spark 2.1 and job monitoring available in dsx',\n",
       " 'learn basics about notebooks and apache spark',\n",
       " 'use decision optimization to schedule league games',\n",
       " 'use decision optimization to schedule league games',\n",
       " 'learn basics about notebooks and apache spark',\n",
       " 'use decision optimization to schedule league games',\n",
       " 'use decision optimization to schedule league games',\n",
       " 'awesome deep learning papers',\n",
       " 'learn basics about notebooks and apache spark',\n",
       " 'learn basics about notebooks and apache spark',\n",
       " 'intents & examples for ibm watson conversation',\n",
       " 'learn basics about notebooks and apache spark',\n",
       " 'the power of machine learning in spark',\n",
       " 'spark 2.1 and job monitoring available in dsx',\n",
       " 'spark 2.1 and job monitoring available in dsx',\n",
       " 'intents & examples for ibm watson conversation',\n",
       " 'learn basics about notebooks and apache spark',\n",
       " 'twelve\\xa0ways to color a map of africa using brunel',\n",
       " 'learn basics about notebooks and apache spark',\n",
       " 'spark-based machine learning tools for capturing word meanings',\n",
       " 'the power of machine learning in spark',\n",
       " 'awesome deep learning papers',\n",
       " 'learn basics about notebooks and apache spark',\n",
       " '5 practical use cases of social network analytics: going beyond facebook and twitter',\n",
       " 'learn basics about notebooks and apache spark',\n",
       " 'learn basics about notebooks and apache spark',\n",
       " 'use decision optimization to schedule league games',\n",
       " 'awesome deep learning papers',\n",
       " 'intents & examples for ibm watson conversation',\n",
       " 'learn basics about notebooks and apache spark',\n",
       " 'using machine learning to predict parking difficulty',\n",
       " 'spark 2.1 and job monitoring available in dsx',\n",
       " 'twelve\\xa0ways to color a map of africa using brunel',\n",
       " 'intents & examples for ibm watson conversation',\n",
       " 'using machine learning to predict parking difficulty',\n",
       " 'intents & examples for ibm watson conversation',\n",
       " '5 practical use cases of social network analytics: going beyond facebook and twitter',\n",
       " '5 practical use cases of social network analytics: going beyond facebook and twitter',\n",
       " 'spark 2.1 and job monitoring available in dsx',\n",
       " 'spark-based machine learning tools for capturing word meanings',\n",
       " 'using machine learning to predict parking difficulty',\n",
       " 'learn basics about notebooks and apache spark',\n",
       " 'spark-based machine learning tools for capturing word meanings',\n",
       " '5 practical use cases of social network analytics: going beyond facebook and twitter',\n",
       " 'using machine learning to predict parking difficulty',\n",
       " 'twelve\\xa0ways to color a map of africa using brunel',\n",
       " 'awesome deep learning papers',\n",
       " 'intents & examples for ibm watson conversation',\n",
       " 'use decision optimization to schedule league games',\n",
       " 'the power of machine learning in spark',\n",
       " 'twelve\\xa0ways to color a map of africa using brunel',\n",
       " 'spark 2.1 and job monitoring available in dsx',\n",
       " 'learn basics about notebooks and apache spark',\n",
       " 'learn basics about notebooks and apache spark',\n",
       " 'learn basics about notebooks and apache spark',\n",
       " 'learn basics about notebooks and apache spark',\n",
       " '5 practical use cases of social network analytics: going beyond facebook and twitter',\n",
       " 'intents & examples for ibm watson conversation',\n",
       " '5 practical use cases of social network analytics: going beyond facebook and twitter',\n",
       " 'intents & examples for ibm watson conversation',\n",
       " 'spark 2.1 and job monitoring available in dsx',\n",
       " 'spark-based machine learning tools for capturing word meanings',\n",
       " 'twelve\\xa0ways to color a map of africa using brunel',\n",
       " 'using machine learning to predict parking difficulty',\n",
       " 'intents & examples for ibm watson conversation',\n",
       " 'learn basics about notebooks and apache spark',\n",
       " 'the power of machine learning in spark',\n",
       " 'twelve\\xa0ways to color a map of africa using brunel',\n",
       " 'spark 2.1 and job monitoring available in dsx',\n",
       " 'learn basics about notebooks and apache spark',\n",
       " 'learn basics about notebooks and apache spark',\n",
       " 'learn basics about notebooks and apache spark',\n",
       " 'learn basics about notebooks and apache spark',\n",
       " 'learn basics about notebooks and apache spark',\n",
       " 'awesome deep learning papers',\n",
       " 'use decision optimization to schedule league games',\n",
       " 'intents & examples for ibm watson conversation',\n",
       " 'intents & examples for ibm watson conversation',\n",
       " 'learn basics about notebooks and apache spark',\n",
       " 'intents & examples for ibm watson conversation',\n",
       " 'twelve\\xa0ways to color a map of africa using brunel',\n",
       " 'learn basics about notebooks and apache spark',\n",
       " 'spark-based machine learning tools for capturing word meanings',\n",
       " 'learn basics about notebooks and apache spark',\n",
       " 'learn basics about notebooks and apache spark',\n",
       " 'learn basics about notebooks and apache spark',\n",
       " 'learn basics about notebooks and apache spark',\n",
       " 'awesome deep learning papers',\n",
       " 'use decision optimization to schedule league games',\n",
       " 'use decision optimization to schedule league games',\n",
       " 'intents & examples for ibm watson conversation',\n",
       " 'learn basics about notebooks and apache spark',\n",
       " 'learn basics about notebooks and apache spark',\n",
       " 'intents & examples for ibm watson conversation',\n",
       " 'intents & examples for ibm watson conversation',\n",
       " 'twelve\\xa0ways to color a map of africa using brunel',\n",
       " 'intents & examples for ibm watson conversation',\n",
       " '5 practical use cases of social network analytics: going beyond facebook and twitter',\n",
       " 'learn basics about notebooks and apache spark',\n",
       " 'using machine learning to predict parking difficulty',\n",
       " 'learn basics about notebooks and apache spark',\n",
       " 'learn basics about notebooks and apache spark',\n",
       " 'using machine learning to predict parking difficulty',\n",
       " 'awesome deep learning papers',\n",
       " 'using machine learning to predict parking difficulty',\n",
       " 'intents & examples for ibm watson conversation',\n",
       " 'the power of machine learning in spark',\n",
       " 'awesome deep learning papers',\n",
       " 'learn basics about notebooks and apache spark',\n",
       " 'spark-based machine learning tools for capturing word meanings',\n",
       " 'intents & examples for ibm watson conversation',\n",
       " 'intents & examples for ibm watson conversation',\n",
       " 'use decision optimization to schedule league games',\n",
       " 'learn basics about notebooks and apache spark',\n",
       " 'intents & examples for ibm watson conversation',\n",
       " 'twelve\\xa0ways to color a map of africa using brunel',\n",
       " 'use decision optimization to schedule league games',\n",
       " 'intents & examples for ibm watson conversation',\n",
       " 'using machine learning to predict parking difficulty',\n",
       " 'awesome deep learning papers',\n",
       " 'use decision optimization to schedule league games',\n",
       " 'learn basics about notebooks and apache spark',\n",
       " 'using machine learning to predict parking difficulty',\n",
       " 'twelve\\xa0ways to color a map of africa using brunel',\n",
       " 'using machine learning to predict parking difficulty',\n",
       " '5 practical use cases of social network analytics: going beyond facebook and twitter',\n",
       " '5 practical use cases of social network analytics: going beyond facebook and twitter',\n",
       " 'intents & examples for ibm watson conversation',\n",
       " 'spark-based machine learning tools for capturing word meanings',\n",
       " 'twelve\\xa0ways to color a map of africa using brunel',\n",
       " 'learn basics about notebooks and apache spark',\n",
       " 'intents & examples for ibm watson conversation',\n",
       " 'spark 2.1 and job monitoring available in dsx',\n",
       " 'learn basics about notebooks and apache spark',\n",
       " 'learn basics about notebooks and apache spark',\n",
       " 'spark-based machine learning tools for capturing word meanings',\n",
       " 'use decision optimization to schedule league games',\n",
       " 'awesome deep learning papers',\n",
       " 'the power of machine learning in spark',\n",
       " 'the power of machine learning in spark',\n",
       " 'learn basics about notebooks and apache spark',\n",
       " 'learn basics about notebooks and apache spark',\n",
       " 'learn basics about notebooks and apache spark',\n",
       " 'intents & examples for ibm watson conversation',\n",
       " 'intents & examples for ibm watson conversation',\n",
       " 'learn basics about notebooks and apache spark',\n",
       " 'spark-based machine learning tools for capturing word meanings',\n",
       " 'spark 2.1 and job monitoring available in dsx',\n",
       " 'learn basics about notebooks and apache spark',\n",
       " 'intents & examples for ibm watson conversation',\n",
       " 'learn basics about notebooks and apache spark',\n",
       " 'learn basics about notebooks and apache spark',\n",
       " '5 practical use cases of social network analytics: going beyond facebook and twitter',\n",
       " 'intents & examples for ibm watson conversation',\n",
       " 'spark 2.1 and job monitoring available in dsx',\n",
       " 'spark 2.1 and job monitoring available in dsx',\n",
       " 'spark 2.1 and job monitoring available in dsx',\n",
       " 'spark 2.1 and job monitoring available in dsx',\n",
       " 'spark 2.1 and job monitoring available in dsx',\n",
       " 'use decision optimization to schedule league games',\n",
       " 'intents & examples for ibm watson conversation',\n",
       " 'learn basics about notebooks and apache spark',\n",
       " 'the power of machine learning in spark',\n",
       " 'learn basics about notebooks and apache spark',\n",
       " 'awesome deep learning papers',\n",
       " 'twelve\\xa0ways to color a map of africa using brunel',\n",
       " 'learn basics about notebooks and apache spark',\n",
       " 'use decision optimization to schedule league games',\n",
       " 'awesome deep learning papers',\n",
       " 'intents & examples for ibm watson conversation',\n",
       " 'twelve\\xa0ways to color a map of africa using brunel',\n",
       " 'intents & examples for ibm watson conversation',\n",
       " 'intents & examples for ibm watson conversation',\n",
       " 'use decision optimization to schedule league games',\n",
       " 'twelve\\xa0ways to color a map of africa using brunel',\n",
       " 'learn basics about notebooks and apache spark',\n",
       " 'use decision optimization to schedule league games',\n",
       " 'learn basics about notebooks and apache spark',\n",
       " 'use decision optimization to schedule league games',\n",
       " 'spark 2.1 and job monitoring available in dsx',\n",
       " 'learn basics about notebooks and apache spark',\n",
       " 'using machine learning to predict parking difficulty',\n",
       " 'using machine learning to predict parking difficulty',\n",
       " 'learn basics about notebooks and apache spark',\n",
       " 'learn basics about notebooks and apache spark',\n",
       " 'learn basics about notebooks and apache spark',\n",
       " 'spark 2.1 and job monitoring available in dsx',\n",
       " 'learn basics about notebooks and apache spark',\n",
       " 'use decision optimization to schedule league games',\n",
       " 'using machine learning to predict parking difficulty',\n",
       " 'awesome deep learning papers',\n",
       " 'intents & examples for ibm watson conversation',\n",
       " 'intents & examples for ibm watson conversation',\n",
       " 'spark 2.1 and job monitoring available in dsx',\n",
       " 'learn basics about notebooks and apache spark',\n",
       " '5 practical use cases of social network analytics: going beyond facebook and twitter',\n",
       " 'awesome deep learning papers',\n",
       " 'using machine learning to predict parking difficulty',\n",
       " 'spark 2.1 and job monitoring available in dsx',\n",
       " 'spark 2.1 and job monitoring available in dsx',\n",
       " 'spark 2.1 and job monitoring available in dsx',\n",
       " 'awesome deep learning papers',\n",
       " 'using machine learning to predict parking difficulty',\n",
       " 'twelve\\xa0ways to color a map of africa using brunel',\n",
       " 'learn basics about notebooks and apache spark',\n",
       " 'learn basics about notebooks and apache spark',\n",
       " 'intents & examples for ibm watson conversation',\n",
       " 'learn basics about notebooks and apache spark',\n",
       " 'using machine learning to predict parking difficulty',\n",
       " 'intents & examples for ibm watson conversation',\n",
       " 'intents & examples for ibm watson conversation',\n",
       " 'spark 2.1 and job monitoring available in dsx',\n",
       " ...]"
      ]
     },
     "execution_count": 139,
     "metadata": {},
     "output_type": "execute_result"
    }
   ],
   "source": [
    "# Check Results\n",
    "get_article_names(user_user_recs(1, 10)) # Return 10 recommendations for user 1"
   ]
  },
  {
   "cell_type": "code",
   "execution_count": 140,
   "metadata": {
    "collapsed": true
   },
   "outputs": [
    {
     "name": "stdout",
     "output_type": "stream",
     "text": [
      "If this is all you see, you passed all of our tests!  Nice job!\n"
     ]
    }
   ],
   "source": [
    "# Test your functions here - No need to change this code - just run this cell\n",
    "assert set(get_article_names(['1024.0', '1176.0', '1305.0', '1314.0', '1422.0', '1427.0'])) == set(['using deep learning to reconstruct high-resolution audio', 'build a python app on the streaming analytics service', 'gosales transactions for naive bayes model', 'healthcare python streaming application demo', 'use r dataframes & ibm watson natural language understanding', 'use xgboost, scikit-learn & ibm watson machine learning apis']), \"Oops! Your the get_article_names function doesn't work quite how we expect.\"\n",
    "assert set(get_article_names(['1320.0', '232.0', '844.0'])) == set(['housing (2015): united states demographic measures','self-service data preparation with ibm data refinery','use the cloudant-spark connector in python notebook']), \"Oops! Your the get_article_names function doesn't work quite how we expect.\"\n",
    "assert set(get_user_articles(20)[0]) == set(['1320.0', '232.0', '844.0'])\n",
    "assert set(get_user_articles(20)[1]) == set(['housing (2015): united states demographic measures', 'self-service data preparation with ibm data refinery','use the cloudant-spark connector in python notebook'])\n",
    "assert set(get_user_articles(2)[0]) == set(['1024.0', '1176.0', '1305.0', '1314.0', '1422.0', '1427.0'])\n",
    "assert set(get_user_articles(2)[1]) == set(['using deep learning to reconstruct high-resolution audio', 'build a python app on the streaming analytics service', 'gosales transactions for naive bayes model', 'healthcare python streaming application demo', 'use r dataframes & ibm watson natural language understanding', 'use xgboost, scikit-learn & ibm watson machine learning apis'])\n",
    "print(\"If this is all you see, you passed all of our tests!  Nice job!\")"
   ]
  },
  {
   "cell_type": "markdown",
   "metadata": {},
   "source": [
    "`4.` Now we are going to improve the consistency of the **user_user_recs** function from above.  \n",
    "\n",
    "* Instead of arbitrarily choosing when we obtain users who are all the same closeness to a given user - choose the users that have the most total article interactions before choosing those with fewer article interactions.\n",
    "\n",
    "\n",
    "* Instead of arbitrarily choosing articles from the user where the number of recommended articles starts below m and ends exceeding m, choose articles with the articles with the most total interactions before choosing those with fewer total interactions. This ranking should be  what would be obtained from the **top_articles** function you wrote earlier."
   ]
  },
  {
   "cell_type": "code",
   "execution_count": 322,
   "metadata": {
    "collapsed": true
   },
   "outputs": [],
   "source": [
    "def get_top_sorted_users(user_id, df=df, user_item=user_item):\n",
    "    '''\n",
    "    INPUT:\n",
    "    user_id - (int)\n",
    "    df - (pandas dataframe) df as defined at the top of the notebook \n",
    "    user_item - (pandas dataframe) matrix of users by articles: \n",
    "            1's when a user has interacted with an article, 0 otherwise\n",
    "    \n",
    "            \n",
    "    OUTPUT:\n",
    "    neighbors_df - (pandas dataframe) a dataframe with:\n",
    "                    neighbor_id - is a neighbor user_id\n",
    "                    similarity - measure of the similarity of each user to the provided user_id\n",
    "                    num_interactions - the number of articles viewed by the user - if a u\n",
    "                    \n",
    "    Other Details - sort the neighbors_df by the similarity and then by number of interactions where \n",
    "                    highest of each is higher in the dataframe\n",
    "     \n",
    "    '''\n",
    "    # Your code here\n",
    "    # User article interactions dataframe\n",
    "    df_user_interaction_count = df.groupby([\"user_id\"])[\"article_id\"].count()\n",
    "    \n",
    "    # neighbor_id column\n",
    "    neighbor_id_list = [next_id for next_id in range(1, user_item.shape[0]) if next_id != user_id]\n",
    "\n",
    "    # Compute pairwise similarity\n",
    "    num_interactions_list = []\n",
    "    similarity_list = []\n",
    "    for next_id in neighbor_id_list:\n",
    "        num_interactions_list.append(df_user_interaction_count.loc[next_id])\n",
    "        similarity_list.append(np.dot(user_item.loc[user_id], user_item.loc[next_id]))\n",
    "        \n",
    "    # Create neighbors_df dataframe\n",
    "    neighbors_df = pd.DataFrame({\"neighbor_id\": neighbor_id_list, \n",
    "                                 \"similarity\": similarity_list,\n",
    "                                 \"num_interactions\": num_interactions_list})\n",
    "    \n",
    "    # Sort by similarity\n",
    "    neighbors_df.sort_values(\"similarity\", ascending=False, inplace=True)\n",
    "\n",
    "    # Reset indices\n",
    "    neighbors_df.reset_index(inplace=True, drop=True)\n",
    "    \n",
    "    return neighbors_df # Return the dataframe specified in the doc_string\n",
    "\n",
    "\n",
    "def user_user_recs_part2(user_id, m=10):\n",
    "    '''\n",
    "    INPUT:\n",
    "    user_id - (int) a user id\n",
    "    m - (int) the number of recommendations you want for the user\n",
    "    \n",
    "    OUTPUT:\n",
    "    recs - (list) a list of recommendations for the user by article id\n",
    "    rec_names - (list) a list of recommendations for the user by article title\n",
    "    \n",
    "    Description:\n",
    "    Loops through the users based on closeness to the input user_id\n",
    "    For each user - finds articles the user hasn't seen before and provides them as recs\n",
    "    Does this until m recommendations are found\n",
    "    \n",
    "    Notes:\n",
    "    * Choose the users that have the most total article interactions \n",
    "    before choosing those with fewer article interactions.\n",
    "\n",
    "    * Choose articles with the articles with the most total interactions \n",
    "    before choosing those with fewer total interactions. \n",
    "   \n",
    "    '''\n",
    "    # Your code here\n",
    "    # Get viewed articles by user\n",
    "    viewed_article_ids, _ = get_user_articles(user_id)\n",
    "    \n",
    "    # Get neighbors\n",
    "    neighbors_df = get_top_sorted_users(user_id)\n",
    "\n",
    "    # Articles viewed by neighbors\n",
    "    recs = []\n",
    "    for next_id in neighbors_df[\"neighbor_id\"]:\n",
    "        # Get articles viewed by next_user\n",
    "        next_article_ids = user_item.loc[next_id]\n",
    "        next_article_ids = [(article_id) for article_id in next_article_ids[next_article_ids == 1].index]\n",
    "\n",
    "        # Filtered dataframe that contains only those articles that the next_user has read\n",
    "        filtered_df = df[df[\"article_id\"].isin(next_article_ids)]\n",
    "        next_article_ids = get_top_article_ids(len(next_article_ids), filtered_df)\n",
    "\n",
    "        # Add articles to recommendation\n",
    "        for article_id in next_article_ids:\n",
    "            if article_id not in viewed_article_ids and article_id not in recs:\n",
    "                recs.append(str(article_id))\n",
    "\n",
    "        # Breaks if m recommendations are found\n",
    "        if len(recs) >= m:\n",
    "            break\n",
    "\n",
    "    # Find unique article names\n",
    "    rec_names = list(set(df[df[\"article_id\"].isin(np.float_(recs))][\"title\"]))\n",
    "    \n",
    "    return recs[:m], rec_names[:m]"
   ]
  },
  {
   "cell_type": "code",
   "execution_count": 323,
   "metadata": {
    "collapsed": true
   },
   "outputs": [
    {
     "name": "stdout",
     "output_type": "stream",
     "text": [
      "The top 10 recommendations for user 20 are the following article ids:\n",
      "['1271.0', '1053.0', '1296.0', '1320.0', '1186.0', '981.0', '53.0', '232.0', '495.0', '793.0']\n",
      "\n",
      "The top 10 recommendations for user 20 are the following article names:\n",
      "['top 20 r machine learning and data science packages', 'customer demographics and sales', 'fortune 100 companies', '10 powerful features on watson data platform, no coding necessary', 'connect to db2 warehouse on cloud and db2 using scala', 'super fast string matching in python', 'top 10 machine learning algorithms for beginners', 'access mysql with python', 'introducing streams designer', 'from python nested lists to multidimensional numpy arrays']\n"
     ]
    }
   ],
   "source": [
    "# Quick spot check - don't change this code - just use it to test your functions\n",
    "rec_ids, rec_names = user_user_recs_part2(20, 10)\n",
    "print(\"The top 10 recommendations for user 20 are the following article ids:\")\n",
    "print(rec_ids)\n",
    "print()\n",
    "print(\"The top 10 recommendations for user 20 are the following article names:\")\n",
    "print(rec_names)"
   ]
  },
  {
   "cell_type": "markdown",
   "metadata": {},
   "source": [
    "`5.` Use your functions from above to correctly fill in the solutions to the dictionary below.  Then test your dictionary against the solution.  Provide the code you need to answer each following the comments below."
   ]
  },
  {
   "cell_type": "code",
   "execution_count": 186,
   "metadata": {},
   "outputs": [
    {
     "data": {
      "text/plain": [
       "neighbor_id         3933\n",
       "similarity            35\n",
       "num_interactions      45\n",
       "Name: 0, dtype: int64"
      ]
     },
     "execution_count": 186,
     "metadata": {},
     "output_type": "execute_result"
    }
   ],
   "source": [
    "# Find the user that is most similar to user 1 \n",
    "get_top_sorted_users(1).iloc[0]"
   ]
  },
  {
   "cell_type": "code",
   "execution_count": 187,
   "metadata": {},
   "outputs": [
    {
     "data": {
      "text/plain": [
       "neighbor_id         242\n",
       "similarity           25\n",
       "num_interactions    148\n",
       "Name: 9, dtype: int64"
      ]
     },
     "execution_count": 187,
     "metadata": {},
     "output_type": "execute_result"
    }
   ],
   "source": [
    "# Find the 10th most similar user to user 131\n",
    "get_top_sorted_users(131).iloc[9]"
   ]
  },
  {
   "cell_type": "code",
   "execution_count": 188,
   "metadata": {
    "collapsed": true
   },
   "outputs": [],
   "source": [
    "### Tests with a dictionary of results\n",
    "\n",
    "user1_most_sim = 3933 # Find the user that is most similar to user 1 \n",
    "user131_10th_sim = 242 # Find the 10th most similar user to user 131"
   ]
  },
  {
   "cell_type": "code",
   "execution_count": 189,
   "metadata": {
    "collapsed": true
   },
   "outputs": [
    {
     "name": "stdout",
     "output_type": "stream",
     "text": [
      "This all looks good!  Nice job!\n"
     ]
    }
   ],
   "source": [
    "## Dictionary Test Here\n",
    "sol_5_dict = {\n",
    "    'The user that is most similar to user 1.': user1_most_sim, \n",
    "    'The user that is the 10th most similar to user 131': user131_10th_sim,\n",
    "}\n",
    "\n",
    "t.sol_5_test(sol_5_dict)"
   ]
  },
  {
   "cell_type": "markdown",
   "metadata": {},
   "source": [
    "`6.` If we were given a new user, which of the above functions would you be able to use to make recommendations?  Explain.  Can you think of a better way we might make recommendations?  Use the cell below to explain a better method for new users."
   ]
  },
  {
   "cell_type": "markdown",
   "metadata": {},
   "source": [
    "**Because a new user has not viewed any articles, computing meaningful similarities to other users is not possible. As a result, we may use get_top_article_ids(n) to provide to the new user the n most viewed articles. However, this is not a personalized recommendation.**\n",
    "\n",
    "**To address the so-called cold start problem, a content-based recommendation combined with a to-be-completed user profile with preferences could be beneficial.**"
   ]
  },
  {
   "cell_type": "markdown",
   "metadata": {},
   "source": [
    "`7.` Using your existing functions, provide the top 10 recommended articles you would provide for the a new user below.  You can test your function against our thoughts to make sure we are all on the same page with how we might make a recommendation."
   ]
  },
  {
   "cell_type": "code",
   "execution_count": 200,
   "metadata": {
    "collapsed": true
   },
   "outputs": [],
   "source": [
    "new_user = '0.0'\n",
    "\n",
    "# What would your recommendations be for this new user '0.0'?  As a new user, they have no observed articles.\n",
    "# Provide a list of the top 10 article ids you would give to \n",
    "new_user_recs = list(map(str, get_top_article_ids(10))) # Your recommendations here"
   ]
  },
  {
   "cell_type": "code",
   "execution_count": 202,
   "metadata": {
    "collapsed": true
   },
   "outputs": [
    {
     "name": "stdout",
     "output_type": "stream",
     "text": [
      "That's right!  Nice job!\n"
     ]
    }
   ],
   "source": [
    "assert set(new_user_recs) == set(['1314.0','1429.0','1293.0','1427.0','1162.0','1364.0','1304.0','1170.0','1431.0','1330.0']), \"Oops!  It makes sense that in this case we would want to recommend the most popular articles, because we don't know anything about these users.\"\n",
    "\n",
    "print(\"That's right!  Nice job!\")"
   ]
  },
  {
   "cell_type": "markdown",
   "metadata": {},
   "source": [
    "### <a class=\"anchor\" id=\"Content-Recs\">Part IV: Content Based Recommendations (EXTRA - NOT REQUIRED)</a>\n",
    "\n",
    "Another method we might use to make recommendations is to perform a ranking of the highest ranked articles associated with some term.  You might consider content to be the **doc_body**, **doc_description**, or **doc_full_name**.  There isn't one way to create a content based recommendation, especially considering that each of these columns hold content related information.  \n",
    "\n",
    "`1.` Use the function body below to create a content based recommender.  Since there isn't one right answer for this recommendation tactic, no test functions are provided.  Feel free to change the function inputs if you decide you want to try a method that requires more input values.  The input values are currently set with one idea in mind that you may use to make content based recommendations.  One additional idea is that you might want to choose the most popular recommendations that meet your 'content criteria', but again, there is a lot of flexibility in how you might make these recommendations.\n",
    "\n",
    "### This part is NOT REQUIRED to pass this project.  However, you may choose to take this on as an extra way to show off your skills."
   ]
  },
  {
   "cell_type": "code",
   "execution_count": null,
   "metadata": {
    "collapsed": true
   },
   "outputs": [],
   "source": [
    "def make_content_recs():\n",
    "    '''\n",
    "    INPUT:\n",
    "    \n",
    "    OUTPUT:\n",
    "    \n",
    "    '''"
   ]
  },
  {
   "cell_type": "markdown",
   "metadata": {},
   "source": [
    "`2.` Now that you have put together your content-based recommendation system, use the cell below to write a summary explaining how your content based recommender works.  Do you see any possible improvements that could be made to your function?  Is there anything novel about your content based recommender?\n",
    "\n",
    "### This part is NOT REQUIRED to pass this project.  However, you may choose to take this on as an extra way to show off your skills."
   ]
  },
  {
   "cell_type": "markdown",
   "metadata": {},
   "source": [
    "**Write an explanation of your content based recommendation system here.**"
   ]
  },
  {
   "cell_type": "markdown",
   "metadata": {},
   "source": [
    "`3.` Use your content-recommendation system to make recommendations for the below scenarios based on the comments.  Again no tests are provided here, because there isn't one right answer that could be used to find these content based recommendations.\n",
    "\n",
    "### This part is NOT REQUIRED to pass this project.  However, you may choose to take this on as an extra way to show off your skills."
   ]
  },
  {
   "cell_type": "code",
   "execution_count": null,
   "metadata": {
    "collapsed": true
   },
   "outputs": [],
   "source": [
    "# make recommendations for a brand new user\n",
    "\n",
    "\n",
    "# make a recommendations for a user who only has interacted with article id '1427.0'\n",
    "\n"
   ]
  },
  {
   "cell_type": "markdown",
   "metadata": {},
   "source": [
    "### <a class=\"anchor\" id=\"Matrix-Fact\">Part V: Matrix Factorization</a>\n",
    "\n",
    "In this part of the notebook, you will build use matrix factorization to make article recommendations to the users on the IBM Watson Studio platform.\n",
    "\n",
    "`1.` You should have already created a **user_item** matrix above in **question 1** of **Part III** above.  This first question here will just require that you run the cells to get things set up for the rest of **Part V** of the notebook. "
   ]
  },
  {
   "cell_type": "code",
   "execution_count": 203,
   "metadata": {
    "collapsed": true
   },
   "outputs": [],
   "source": [
    "# Load the matrix here\n",
    "user_item_matrix = pd.read_pickle('user_item_matrix.p')"
   ]
  },
  {
   "cell_type": "code",
   "execution_count": 204,
   "metadata": {
    "collapsed": true
   },
   "outputs": [
    {
     "data": {
      "text/html": [
       "<div>\n",
       "<style scoped>\n",
       "    .dataframe tbody tr th:only-of-type {\n",
       "        vertical-align: middle;\n",
       "    }\n",
       "\n",
       "    .dataframe tbody tr th {\n",
       "        vertical-align: top;\n",
       "    }\n",
       "\n",
       "    .dataframe thead th {\n",
       "        text-align: right;\n",
       "    }\n",
       "</style>\n",
       "<table border=\"1\" class=\"dataframe\">\n",
       "  <thead>\n",
       "    <tr style=\"text-align: right;\">\n",
       "      <th>article_id</th>\n",
       "      <th>0.0</th>\n",
       "      <th>100.0</th>\n",
       "      <th>1000.0</th>\n",
       "      <th>1004.0</th>\n",
       "      <th>1006.0</th>\n",
       "      <th>1008.0</th>\n",
       "      <th>101.0</th>\n",
       "      <th>1014.0</th>\n",
       "      <th>1015.0</th>\n",
       "      <th>1016.0</th>\n",
       "      <th>...</th>\n",
       "      <th>977.0</th>\n",
       "      <th>98.0</th>\n",
       "      <th>981.0</th>\n",
       "      <th>984.0</th>\n",
       "      <th>985.0</th>\n",
       "      <th>986.0</th>\n",
       "      <th>990.0</th>\n",
       "      <th>993.0</th>\n",
       "      <th>996.0</th>\n",
       "      <th>997.0</th>\n",
       "    </tr>\n",
       "    <tr>\n",
       "      <th>user_id</th>\n",
       "      <th></th>\n",
       "      <th></th>\n",
       "      <th></th>\n",
       "      <th></th>\n",
       "      <th></th>\n",
       "      <th></th>\n",
       "      <th></th>\n",
       "      <th></th>\n",
       "      <th></th>\n",
       "      <th></th>\n",
       "      <th></th>\n",
       "      <th></th>\n",
       "      <th></th>\n",
       "      <th></th>\n",
       "      <th></th>\n",
       "      <th></th>\n",
       "      <th></th>\n",
       "      <th></th>\n",
       "      <th></th>\n",
       "      <th></th>\n",
       "      <th></th>\n",
       "    </tr>\n",
       "  </thead>\n",
       "  <tbody>\n",
       "    <tr>\n",
       "      <th>1</th>\n",
       "      <td>0.0</td>\n",
       "      <td>0.0</td>\n",
       "      <td>0.0</td>\n",
       "      <td>0.0</td>\n",
       "      <td>0.0</td>\n",
       "      <td>0.0</td>\n",
       "      <td>0.0</td>\n",
       "      <td>0.0</td>\n",
       "      <td>0.0</td>\n",
       "      <td>0.0</td>\n",
       "      <td>...</td>\n",
       "      <td>0.0</td>\n",
       "      <td>0.0</td>\n",
       "      <td>1.0</td>\n",
       "      <td>0.0</td>\n",
       "      <td>0.0</td>\n",
       "      <td>0.0</td>\n",
       "      <td>0.0</td>\n",
       "      <td>0.0</td>\n",
       "      <td>0.0</td>\n",
       "      <td>0.0</td>\n",
       "    </tr>\n",
       "    <tr>\n",
       "      <th>2</th>\n",
       "      <td>0.0</td>\n",
       "      <td>0.0</td>\n",
       "      <td>0.0</td>\n",
       "      <td>0.0</td>\n",
       "      <td>0.0</td>\n",
       "      <td>0.0</td>\n",
       "      <td>0.0</td>\n",
       "      <td>0.0</td>\n",
       "      <td>0.0</td>\n",
       "      <td>0.0</td>\n",
       "      <td>...</td>\n",
       "      <td>0.0</td>\n",
       "      <td>0.0</td>\n",
       "      <td>0.0</td>\n",
       "      <td>0.0</td>\n",
       "      <td>0.0</td>\n",
       "      <td>0.0</td>\n",
       "      <td>0.0</td>\n",
       "      <td>0.0</td>\n",
       "      <td>0.0</td>\n",
       "      <td>0.0</td>\n",
       "    </tr>\n",
       "    <tr>\n",
       "      <th>3</th>\n",
       "      <td>0.0</td>\n",
       "      <td>0.0</td>\n",
       "      <td>0.0</td>\n",
       "      <td>0.0</td>\n",
       "      <td>0.0</td>\n",
       "      <td>0.0</td>\n",
       "      <td>0.0</td>\n",
       "      <td>0.0</td>\n",
       "      <td>0.0</td>\n",
       "      <td>0.0</td>\n",
       "      <td>...</td>\n",
       "      <td>1.0</td>\n",
       "      <td>0.0</td>\n",
       "      <td>0.0</td>\n",
       "      <td>0.0</td>\n",
       "      <td>0.0</td>\n",
       "      <td>0.0</td>\n",
       "      <td>0.0</td>\n",
       "      <td>0.0</td>\n",
       "      <td>0.0</td>\n",
       "      <td>0.0</td>\n",
       "    </tr>\n",
       "    <tr>\n",
       "      <th>4</th>\n",
       "      <td>0.0</td>\n",
       "      <td>0.0</td>\n",
       "      <td>0.0</td>\n",
       "      <td>0.0</td>\n",
       "      <td>0.0</td>\n",
       "      <td>0.0</td>\n",
       "      <td>0.0</td>\n",
       "      <td>0.0</td>\n",
       "      <td>0.0</td>\n",
       "      <td>0.0</td>\n",
       "      <td>...</td>\n",
       "      <td>0.0</td>\n",
       "      <td>0.0</td>\n",
       "      <td>0.0</td>\n",
       "      <td>0.0</td>\n",
       "      <td>0.0</td>\n",
       "      <td>0.0</td>\n",
       "      <td>0.0</td>\n",
       "      <td>0.0</td>\n",
       "      <td>0.0</td>\n",
       "      <td>0.0</td>\n",
       "    </tr>\n",
       "    <tr>\n",
       "      <th>5</th>\n",
       "      <td>0.0</td>\n",
       "      <td>0.0</td>\n",
       "      <td>0.0</td>\n",
       "      <td>0.0</td>\n",
       "      <td>0.0</td>\n",
       "      <td>0.0</td>\n",
       "      <td>0.0</td>\n",
       "      <td>0.0</td>\n",
       "      <td>0.0</td>\n",
       "      <td>0.0</td>\n",
       "      <td>...</td>\n",
       "      <td>0.0</td>\n",
       "      <td>0.0</td>\n",
       "      <td>0.0</td>\n",
       "      <td>0.0</td>\n",
       "      <td>0.0</td>\n",
       "      <td>0.0</td>\n",
       "      <td>0.0</td>\n",
       "      <td>0.0</td>\n",
       "      <td>0.0</td>\n",
       "      <td>0.0</td>\n",
       "    </tr>\n",
       "  </tbody>\n",
       "</table>\n",
       "<p>5 rows × 714 columns</p>\n",
       "</div>"
      ],
      "text/plain": [
       "article_id  0.0  100.0  1000.0  1004.0  1006.0  1008.0  101.0  1014.0  1015.0  \\\n",
       "user_id                                                                         \n",
       "1           0.0    0.0     0.0     0.0     0.0     0.0    0.0     0.0     0.0   \n",
       "2           0.0    0.0     0.0     0.0     0.0     0.0    0.0     0.0     0.0   \n",
       "3           0.0    0.0     0.0     0.0     0.0     0.0    0.0     0.0     0.0   \n",
       "4           0.0    0.0     0.0     0.0     0.0     0.0    0.0     0.0     0.0   \n",
       "5           0.0    0.0     0.0     0.0     0.0     0.0    0.0     0.0     0.0   \n",
       "\n",
       "article_id  1016.0  ...  977.0  98.0  981.0  984.0  985.0  986.0  990.0  \\\n",
       "user_id             ...                                                   \n",
       "1              0.0  ...    0.0   0.0    1.0    0.0    0.0    0.0    0.0   \n",
       "2              0.0  ...    0.0   0.0    0.0    0.0    0.0    0.0    0.0   \n",
       "3              0.0  ...    1.0   0.0    0.0    0.0    0.0    0.0    0.0   \n",
       "4              0.0  ...    0.0   0.0    0.0    0.0    0.0    0.0    0.0   \n",
       "5              0.0  ...    0.0   0.0    0.0    0.0    0.0    0.0    0.0   \n",
       "\n",
       "article_id  993.0  996.0  997.0  \n",
       "user_id                          \n",
       "1             0.0    0.0    0.0  \n",
       "2             0.0    0.0    0.0  \n",
       "3             0.0    0.0    0.0  \n",
       "4             0.0    0.0    0.0  \n",
       "5             0.0    0.0    0.0  \n",
       "\n",
       "[5 rows x 714 columns]"
      ]
     },
     "execution_count": 204,
     "metadata": {},
     "output_type": "execute_result"
    }
   ],
   "source": [
    "# quick look at the matrix\n",
    "user_item_matrix.head()"
   ]
  },
  {
   "cell_type": "markdown",
   "metadata": {},
   "source": [
    "`2.` In this situation, you can use Singular Value Decomposition from [numpy](https://docs.scipy.org/doc/numpy-1.14.0/reference/generated/numpy.linalg.svd.html) on the user-item matrix.  Use the cell to perform SVD, and explain why this is different than in the lesson."
   ]
  },
  {
   "cell_type": "code",
   "execution_count": 205,
   "metadata": {
    "collapsed": true
   },
   "outputs": [],
   "source": [
    "# Perform SVD on the User-Item Matrix Here\n",
    "\n",
    "u, s, vt = np.linalg.svd(user_item_matrix) # use the built in to get the three matrices"
   ]
  },
  {
   "cell_type": "markdown",
   "metadata": {},
   "source": [
    "**In the lessons, we had an example where we analyzed user ratings of movies and where NaN values correspond to missing ratings. Here, however, we are only interested in whether the user has read an article or not. Thus, we have no NaN values and we may use SVD here.**"
   ]
  },
  {
   "cell_type": "markdown",
   "metadata": {},
   "source": [
    "`3.` Now for the tricky part, how do we choose the number of latent features to use?  Running the below cell, you can see that as the number of latent features increases, we obtain a lower error rate on making predictions for the 1 and 0 values in the user-item matrix.  Run the cell below to get an idea of how the accuracy improves as we increase the number of latent features."
   ]
  },
  {
   "cell_type": "code",
   "execution_count": 292,
   "metadata": {
    "collapsed": true
   },
   "outputs": [
    {
     "data": {
      "image/png": "[encoded data removed]",
      "text/plain": [
       "<Figure size 640x480 with 1 Axes>"
      ]
     },
     "metadata": {},
     "output_type": "display_data"
    }
   ],
   "source": [
    "num_latent_feats = np.arange(10,700+10,20)\n",
    "sum_errs = []\n",
    "\n",
    "for k in num_latent_feats:\n",
    "    # restructure with k latent features\n",
    "    s_new, u_new, vt_new = np.diag(s[:k]), u[:, :k], vt[:k, :]\n",
    "    \n",
    "    # take dot product\n",
    "    user_item_est = np.around(np.dot(np.dot(u_new, s_new), vt_new))\n",
    "    \n",
    "    # compute error for each prediction to actual value\n",
    "    diffs = np.subtract(user_item_matrix, user_item_est)\n",
    "    \n",
    "    # total errors and keep track of them\n",
    "    err = np.sum(np.sum(np.abs(diffs)))\n",
    "    sum_errs.append(err)\n",
    "    \n",
    "    \n",
    "plt.plot(num_latent_feats, 1 - np.array(sum_errs)/df.shape[0]);\n",
    "plt.xlabel('Number of Latent Features');\n",
    "plt.ylabel('Accuracy');\n",
    "plt.title('Training Accuracy vs. Number of Latent Features');"
   ]
  },
  {
   "cell_type": "markdown",
   "metadata": {},
   "source": [
    "`4.` From the above, we can't really be sure how many features to use, because simply having a better way to predict the 1's and 0's of the matrix doesn't exactly give us an indication of if we are able to make good recommendations.  Instead, we might split our dataset into a training and test set of data, as shown in the cell below.  \n",
    "\n",
    "Use the code from question 3 to understand the impact on accuracy of the training and test sets of data with different numbers of latent features. Using the split below: \n",
    "\n",
    "* How many users can we make predictions for in the test set?  \n",
    "* How many users are we not able to make predictions for because of the cold start problem?\n",
    "* How many articles can we make predictions for in the test set?  \n",
    "* How many articles are we not able to make predictions for because of the cold start problem?"
   ]
  },
  {
   "cell_type": "code",
   "execution_count": 240,
   "metadata": {
    "collapsed": true
   },
   "outputs": [],
   "source": [
    "df_train = df.head(40000)\n",
    "df_test = df.tail(5993)\n",
    "\n",
    "def create_test_and_train_user_item(df_train, df_test):\n",
    "    '''\n",
    "    INPUT:\n",
    "    df_train - training dataframe\n",
    "    df_test - test dataframe\n",
    "    \n",
    "    OUTPUT:\n",
    "    user_item_train - a user-item matrix of the training dataframe \n",
    "                      (unique users for each row and unique articles for each column)\n",
    "    user_item_test - a user-item matrix of the testing dataframe \n",
    "                    (unique users for each row and unique articles for each column)\n",
    "    test_idx - all of the test user ids\n",
    "    test_arts - all of the test article ids\n",
    "    \n",
    "    '''\n",
    "    # Your code here\n",
    "    # User-item matrix for the training data\n",
    "    user_item_train = create_user_item_matrix(df_train)\n",
    "    \n",
    "    # User-item matrix for the testing data \n",
    "    user_item_test = create_user_item_matrix(df_test)\n",
    "    \n",
    "    # Test user_ids\n",
    "    test_idx = user_item_test.index\n",
    "    test_idx = list(set(test_idx))\n",
    "    \n",
    "    # Test article_ids\n",
    "    test_arts = user_item_test.columns\n",
    "    test_arts = list(set(test_arts))\n",
    "    \n",
    "    return user_item_train, user_item_test, test_idx, test_arts\n",
    "\n",
    "user_item_train, user_item_test, test_idx, test_arts = create_test_and_train_user_item(df_train, df_test)"
   ]
  },
  {
   "cell_type": "code",
   "execution_count": 211,
   "metadata": {},
   "outputs": [
    {
     "data": {
      "text/plain": [
       "20"
      ]
     },
     "execution_count": 211,
     "metadata": {},
     "output_type": "execute_result"
    }
   ],
   "source": [
    "# How many users can we make predictions for in the test set?\n",
    "len(np.intersect1d(df_train['user_id'].unique(),df_test['user_id'].unique()))"
   ]
  },
  {
   "cell_type": "code",
   "execution_count": 212,
   "metadata": {},
   "outputs": [
    {
     "data": {
      "text/plain": [
       "662"
      ]
     },
     "execution_count": 212,
     "metadata": {},
     "output_type": "execute_result"
    }
   ],
   "source": [
    "# How many users in the test set are we not able to make predictions for because of the cold start problem?\n",
    "len(df_test['user_id'].unique()) - len(np.intersect1d(df_train['user_id'].unique(),df_test['user_id'].unique()))"
   ]
  },
  {
   "cell_type": "code",
   "execution_count": 213,
   "metadata": {},
   "outputs": [
    {
     "data": {
      "text/plain": [
       "574"
      ]
     },
     "execution_count": 213,
     "metadata": {},
     "output_type": "execute_result"
    }
   ],
   "source": [
    "# How many articles can we make predictions for in the test set?\n",
    "len(np.intersect1d(df_train['article_id'].unique(),df_test['article_id'].unique()))"
   ]
  },
  {
   "cell_type": "code",
   "execution_count": 214,
   "metadata": {},
   "outputs": [
    {
     "data": {
      "text/plain": [
       "0"
      ]
     },
     "execution_count": 214,
     "metadata": {},
     "output_type": "execute_result"
    }
   ],
   "source": [
    "# How many articles in the test set are we not able to make predictions for because of the cold start problem?\n",
    "len(df_test['article_id'].unique()) - len(np.intersect1d(df_train['article_id'].unique(),df_test['article_id'].unique()))"
   ]
  },
  {
   "cell_type": "code",
   "execution_count": 210,
   "metadata": {
    "collapsed": true
   },
   "outputs": [
    {
     "name": "stdout",
     "output_type": "stream",
     "text": [
      "Awesome job!  That's right!  All of the test movies are in the training data, but there are only 20 test users that were also in the training set.  All of the other users that are in the test set we have no data on.  Therefore, we cannot make predictions for these users using SVD.\n"
     ]
    }
   ],
   "source": [
    "# Replace the values in the dictionary below\n",
    "a = 662 \n",
    "b = 574 \n",
    "c = 20 \n",
    "d = 0 \n",
    "\n",
    "\n",
    "sol_4_dict = {\n",
    "    \"How many users can we make predictions for in the test set?\": c,\n",
    "    \"How many users in the test set are we not able to make predictions for because of the cold start problem?\": a,\n",
    "    \"How many movies can we make predictions for in the test set?\": b,\n",
    "    \"How many movies in the test set are we not able to make predictions for because of the cold start problem?\": d,\n",
    "}\n",
    "\n",
    "t.sol_4_test(sol_4_dict)"
   ]
  },
  {
   "cell_type": "markdown",
   "metadata": {},
   "source": [
    "`5.` Now use the **user_item_train** dataset from above to find U, S, and V transpose using SVD. Then find the subset of rows in the **user_item_test** dataset that you can predict using this matrix decomposition with different numbers of latent features to see how many features makes sense to keep based on the accuracy on the test data. This will require combining what was done in questions `2` - `4`.\n",
    "\n",
    "Use the cells below to explore how well SVD works towards making predictions for recommendations on the test data.  "
   ]
  },
  {
   "cell_type": "code",
   "execution_count": 241,
   "metadata": {
    "collapsed": true
   },
   "outputs": [],
   "source": [
    "# Fit SVD on the user_item_train matrix\n",
    "u_train, s_train, vt_train = np.linalg.svd(user_item_train) # fit svd similar to above then use the cells below"
   ]
  },
  {
   "cell_type": "code",
   "execution_count": 267,
   "metadata": {
    "collapsed": true
   },
   "outputs": [],
   "source": [
    "# Use these cells to see how well you can use the training \n",
    "# decomposition to predict on test data\n",
    "# Get u_test, vt_test \n",
    "user_ids = user_item_train.index.isin(test_idx)\n",
    "arts_ids = user_item_train.columns.isin(test_arts)\n",
    "\n",
    "u_test = u_train[user_ids, :]\n",
    "vt_test = vt_train[:, arts_ids]"
   ]
  },
  {
   "cell_type": "code",
   "execution_count": 289,
   "metadata": {
    "collapsed": true
   },
   "outputs": [],
   "source": [
    "#Iterate through latent features to predict and compare against actual test set\n",
    "from sklearn.metrics import accuracy_score\n",
    "num_latent_feats = np.arange(10,700+10,20)\n",
    "sum_errs = []\n",
    "\n",
    "for k in num_latent_feats:\n",
    "    # restructure with k latent features\n",
    "    s_new_train, u_new_train, vt_new_train = np.diag(s_train[:k]), u_train[:, :k], vt_train[:k, :]\n",
    "    u_new_test, vt_new_test =  u_test[:, :k], vt_test[:k, :]\n",
    "    \n",
    "    # take dot product\n",
    "    user_item_est_test = np.around(np.dot(np.dot(u_new_test, s_new_train), vt_new_test))\n",
    "\n",
    "    # compute total errors\n",
    "    err = 1 - accuracy_score(user_item_test[user_item_test.index.isin(user_item_train.index)].values.flatten(), user_item_est_test.flatten())\n",
    "    sum_errs.append(err)"
   ]
  },
  {
   "cell_type": "code",
   "execution_count": 291,
   "metadata": {},
   "outputs": [
    {
     "data": {
      "image/png": "[encoded data removed]",
      "text/plain": [
       "<Figure size 640x480 with 1 Axes>"
      ]
     },
     "metadata": {},
     "output_type": "display_data"
    }
   ],
   "source": [
    "# Plot test accuracy and latent features\n",
    "plt.plot(num_latent_feats, 1 - np.array(sum_errs));\n",
    "plt.xlabel('Number of Latent Features');\n",
    "plt.ylabel('Accuracy');\n",
    "plt.title('Test Accuracy vs. Number of Latent Features');"
   ]
  },
  {
   "cell_type": "markdown",
   "metadata": {
    "collapsed": true
   },
   "source": [
    "`6.` Use the cell below to comment on the results you found in the previous question. Given the circumstances of your results, discuss what you might do to determine if the recommendations you make with any of the above recommendation systems are an improvement to how users currently find articles? "
   ]
  },
  {
   "cell_type": "markdown",
   "metadata": {},
   "source": [
    "**1. When the training and test accuracy are compared, the training accuracy increases for a greater number of latent features while the test accuracy decreases. Using only a few latent features, on the other hand, makes it easier to generate meaningful recommendations for the test set. One possible explanation is that having more latent features leads to overfitting on the training data. Furthermore, due to the small size of the test set and the limited number of shared users, i.e., users who appear in both the training and test sets, the recommendation engine may be unable to provide meaningful recommendations to new users.**\n",
    "**2. Alternatively, we could implement an online evaluation of the recommendation engine. Using an A/B test, we can compare the rank-based recommendation engine to the matrix-based. For this, users are grouped in two groups, where group A uses rank-based recommendations, while group B uses matrix-based.**"
   ]
  },
  {
   "cell_type": "markdown",
   "metadata": {
    "collapsed": true
   },
   "source": [
    "<a id='conclusions'></a>\n",
    "### Extras\n",
    "Using your workbook, you could now save your recommendations for each user, develop a class to make new predictions and update your results, and make a flask app to deploy your results.  These tasks are beyond what is required for this project.  However, from what you learned in the lessons, you certainly capable of taking these tasks on to improve upon your work here!\n",
    "\n",
    "\n",
    "## Conclusion\n",
    "\n",
    "> Congratulations!  You have reached the end of the Recommendations with IBM project! \n",
    "\n",
    "> **Tip**: Once you are satisfied with your work here, check over your report to make sure that it is satisfies all the areas of the [rubric](https://review.udacity.com/#!/rubrics/2322/view). You should also probably remove all of the \"Tips\" like this one so that the presentation is as polished as possible.\n",
    "\n",
    "\n",
    "## Directions to Submit\n",
    "\n",
    "> Before you submit your project, you need to create a .html or .pdf version of this notebook in the workspace here. To do that, run the code cell below. If it worked correctly, you should get a return code of 0, and you should see the generated .html file in the workspace directory (click on the orange Jupyter icon in the upper left).\n",
    "\n",
    "> Alternatively, you can download this report as .html via the **File** > **Download as** submenu, and then manually upload it into the workspace directory by clicking on the orange Jupyter icon in the upper left, then using the Upload button.\n",
    "\n",
    "> Once you've done this, you can submit your project by clicking on the \"Submit Project\" button in the lower right here. This will create and submit a zip file with this .ipynb doc and the .html or .pdf version you created. Congratulations! "
   ]
  },
  {
   "cell_type": "code",
   "execution_count": 297,
   "metadata": {
    "collapsed": true
   },
   "outputs": [
    {
     "data": {
      "text/plain": [
       "0"
      ]
     },
     "execution_count": 297,
     "metadata": {},
     "output_type": "execute_result"
    }
   ],
   "source": [
    "from subprocess import call\n",
    "call(['jupyter', 'nbconvert', '--to', 'html', 'Recommendations_with_IBM.ipynb'])"
   ]
  }
 ],
 "metadata": {
  "kernelspec": {
   "display_name": "Python 3.8.10 ('.venv': poetry)",
   "language": "python",
   "name": "python3"
  },
  "language_info": {
   "codemirror_mode": {
    "name": "ipython",
    "version": 3
   },
   "file_extension": ".py",
   "mimetype": "text/x-python",
   "name": "python",
   "nbconvert_exporter": "python",
   "pygments_lexer": "ipython3",
   "version": "3.8.10"
  },
  "vscode": {
   "interpreter": {
    "hash": "0d19eb15652834628da4d776ac4fa9faee8a03e292ac1a20bdb9f7ef5dcea4ab"
   }
  }
 },
 "nbformat": 4,
 "nbformat_minor": 2
}
